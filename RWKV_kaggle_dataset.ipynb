{
 "cells": [
  {
   "cell_type": "markdown",
   "id": "4468b6a5",
   "metadata": {},
   "source": [
    "# Initial Setup and Library Imports"
   ]
  },
  {
   "cell_type": "code",
   "execution_count": 1,
   "id": "7dd67b11",
   "metadata": {},
   "outputs": [],
   "source": [
    "import numpy as np\n",
    "import pandas as pd\n",
    "\n",
    "import matplotlib.pyplot as plt\n",
    "import seaborn as sns\n",
    "\n",
    "from tqdm import tqdm\n",
    "\n",
    "import joblib\n",
    "from joblib import Parallel, delayed\n",
    "\n",
    "import os\n",
    "\n",
    "import warnings\n",
    "warnings.filterwarnings('ignore')"
   ]
  },
  {
   "cell_type": "markdown",
   "id": "b7299090",
   "metadata": {},
   "source": [
    "# Data Loading and Preparation"
   ]
  },
  {
   "cell_type": "code",
   "execution_count": 2,
   "id": "238c106c",
   "metadata": {},
   "outputs": [],
   "source": [
    "df_train = pd.read_csv('dataset/exoTrain.csv')\n",
    "df_test = pd.read_csv('dataset/exoTest.csv')\n",
    "\n",
    "df = pd.concat([df_train, df_test], ignore_index=True)"
   ]
  },
  {
   "cell_type": "code",
   "execution_count": 3,
   "id": "eefd815c",
   "metadata": {},
   "outputs": [
    {
     "name": "stdout",
     "output_type": "stream",
     "text": [
      "--- Data Loading and Preparation Complete ---\n",
      "Total number of samples: 5657\n",
      "Shape of the feature data (X): (5657, 1, 3197)\n",
      "Shape of the label data (y): (5657,)\n",
      "Type of y_prepared: <class 'numpy.ndarray'>\n"
     ]
    }
   ],
   "source": [
    "df_train = pd.read_csv('dataset/exoTrain.csv')\n",
    "df_test = pd.read_csv('dataset/exoTest.csv')\n",
    "df = pd.concat([df_train, df_test], ignore_index=True)\n",
    "\n",
    "X = df.drop('LABEL', axis=1)\n",
    "y = df['LABEL']\n",
    "y_prepared = (y - 1).values\n",
    "\n",
    "X_prepared = X.values\n",
    "X_prepared = np.expand_dims(X_prepared, axis=1)\n",
    "\n",
    "print(\"--- Data Loading and Preparation Complete ---\")\n",
    "print(f\"Total number of samples: {len(df)}\")\n",
    "print(f\"Shape of the feature data (X): {X_prepared.shape}\")\n",
    "print(f\"Shape of the label data (y): {y_prepared.shape}\")\n",
    "print(f\"Type of y_prepared: {type(y_prepared)}\")"
   ]
  },
  {
   "cell_type": "markdown",
   "id": "eeb532a1",
   "metadata": {},
   "source": [
    "# Exploratory Data Analysis: Target Variable Distribution"
   ]
  },
  {
   "cell_type": "code",
   "execution_count": 4,
   "id": "aa47456f",
   "metadata": {},
   "outputs": [
    {
     "name": "stdout",
     "output_type": "stream",
     "text": [
      "--- Target Variable Distribution ---\n",
      "Counts:\n",
      "LABEL\n",
      "1    5615\n",
      "2      42\n",
      "Name: count, dtype: int64\n",
      "\n",
      "Percentages:\n",
      "LABEL\n",
      "1    99.257557\n",
      "2     0.742443\n",
      "Name: proportion, dtype: float64\n"
     ]
    },
    {
     "data": {
      "image/png": "[encoded data removed]",
      "text/plain": [
       "<Figure size 800x600 with 1 Axes>"
      ]
     },
     "metadata": {},
     "output_type": "display_data"
    }
   ],
   "source": [
    "target_counts = y.value_counts()\n",
    "target_percentages = y.value_counts(normalize=True) * 100\n",
    "\n",
    "print(\"--- Target Variable Distribution ---\")\n",
    "print(\"Counts:\")\n",
    "print(target_counts)\n",
    "print(\"\\nPercentages:\")\n",
    "print(target_percentages)\n",
    "\n",
    "sns.set_style(\"whitegrid\")\n",
    "plt.figure(figsize=(8, 6))\n",
    "ax = sns.countplot(x=y_prepared)\n",
    "\n",
    "for p in ax.patches:\n",
    "    percentage = f'{100 * p.get_height() / len(y_prepared):.2f}%\\n({p.get_height()})'\n",
    "    x = p.get_x() + p.get_width() / 2\n",
    "    y = p.get_height()\n",
    "    ax.annotate(percentage, (x, y), ha='center', va='center', xytext=(0, 5), textcoords='offset points')\n",
    "\n",
    "plt.title('Distribution of Target Variable')\n",
    "plt.ylabel('Number of Time Series')\n",
    "plt.xticks([0, 1], ['False', 'True'])\n",
    "plt.show()"
   ]
  },
  {
   "cell_type": "markdown",
   "id": "d9d972fc",
   "metadata": {},
   "source": [
    "# Importing Deep Learning Libraries and Modules"
   ]
  },
  {
   "cell_type": "code",
   "execution_count": 5,
   "id": "eeba7db2",
   "metadata": {},
   "outputs": [
    {
     "name": "stderr",
     "output_type": "stream",
     "text": [
      "2025-10-05 17:31:55.748882: E external/local_xla/xla/stream_executor/cuda/cuda_fft.cc:467] Unable to register cuFFT factory: Attempting to register factory for plugin cuFFT when one has already been registered\n",
      "WARNING: All log messages before absl::InitializeLog() is called are written to STDERR\n",
      "E0000 00:00:1759667515.763532   37349 cuda_dnn.cc:8579] Unable to register cuDNN factory: Attempting to register factory for plugin cuDNN when one has already been registered\n",
      "E0000 00:00:1759667515.767796   37349 cuda_blas.cc:1407] Unable to register cuBLAS factory: Attempting to register factory for plugin cuBLAS when one has already been registered\n",
      "W0000 00:00:1759667515.783551   37349 computation_placer.cc:177] computation placer already registered. Please check linkage and avoid linking the same target more than once.\n",
      "W0000 00:00:1759667515.783581   37349 computation_placer.cc:177] computation placer already registered. Please check linkage and avoid linking the same target more than once.\n",
      "W0000 00:00:1759667515.783583   37349 computation_placer.cc:177] computation placer already registered. Please check linkage and avoid linking the same target more than once.\n",
      "W0000 00:00:1759667515.783585   37349 computation_placer.cc:177] computation placer already registered. Please check linkage and avoid linking the same target more than once.\n",
      "2025-10-05 17:31:55.790958: I tensorflow/core/platform/cpu_feature_guard.cc:210] This TensorFlow binary is optimized to use available CPU instructions in performance-critical operations.\n",
      "To enable the following instructions: AVX2 FMA, in other operations, rebuild TensorFlow with the appropriate compiler flags.\n"
     ]
    }
   ],
   "source": [
    "import sklearn\n",
    "import numpy as np\n",
    "import pandas as pd\n",
    "import torch\n",
    "from torch import nn\n",
    "from models import TimerBackbone\n",
    "\n",
    "from torch.amp import GradScaler, autocast \n",
    "\n",
    "import json\n",
    "from tqdm import tqdm\n",
    "import numpy as np\n",
    "from sklearn.metrics import mean_squared_error, mean_absolute_error, r2_score, roc_auc_score\n",
    "from sklearn.model_selection import train_test_split\n",
    "from torch.optim.lr_scheduler import ReduceLROnPlateau, CosineAnnealingLR\n",
    "\n",
    "import joblib\n",
    "from joblib import Parallel, delayed\n",
    "\n",
    "import matplotlib.pyplot as plt\n",
    "import seaborn as sns\n",
    "\n",
    "from torch.utils.data import Dataset, DataLoader, Sampler \n",
    "from scipy.stats import entropy as spectral_entropy\n",
    "import pyentrp\n",
    "\n",
    "import random\n",
    "\n",
    "from sklearn.model_selection import StratifiedKFold\n",
    "import gc "
   ]
  },
  {
   "cell_type": "markdown",
   "id": "9f7b4f48",
   "metadata": {},
   "source": [
    "# Dataset preparation"
   ]
  },
  {
   "cell_type": "code",
   "execution_count": 6,
   "id": "88772710",
   "metadata": {},
   "outputs": [],
   "source": [
    "X_train, X_test, y_train, y_test = train_test_split(\n",
    "    X_prepared, y_prepared, test_size=0.1, random_state=42, stratify=y_prepared\n",
    ")"
   ]
  },
  {
   "cell_type": "code",
   "execution_count": 7,
   "id": "ae7002b1",
   "metadata": {},
   "outputs": [],
   "source": [
    "class ExoDataset(Dataset):\n",
    "    def __init__(self, features, labels):\n",
    "        self.features = torch.tensor(features, dtype=torch.float32)\n",
    "        self.labels = torch.tensor(labels, dtype=torch.float32)\n",
    "\n",
    "    def __len__(self):\n",
    "        return len(self.features)\n",
    "\n",
    "    def __getitem__(self, idx):\n",
    "        return self.features[idx], self.labels[idx]"
   ]
  },
  {
   "cell_type": "markdown",
   "id": "27257141",
   "metadata": {},
   "source": [
    "# Model Architecture"
   ]
  },
  {
   "cell_type": "code",
   "execution_count": 8,
   "id": "b110482f",
   "metadata": {},
   "outputs": [],
   "source": [
    "class Model(nn.Module):\n",
    "    def __init__(self, configs):\n",
    "        super().__init__()\n",
    "        self.task_name = configs.task_name\n",
    "        self.backbone = TimerBackbone.Model_RWKV7(configs)\n",
    "\n",
    "        self.classification_head = nn.Sequential(\n",
    "            nn.AdaptiveAvgPool1d(1),\n",
    "            nn.Flatten(),\n",
    "            nn.Linear(configs.d_model, 1)\n",
    "        )\n",
    "\n",
    "    def classification(self, x_enc):\n",
    "        B, M, L = x_enc.shape\n",
    "\n",
    "        means = x_enc.mean(2, keepdim=True).detach()\n",
    "        x_enc = x_enc - means\n",
    "        stdev = torch.sqrt(torch.var(x_enc, dim=2, keepdim=True, unbiased=False) + 1e-5).detach()\n",
    "        x_enc /= stdev\n",
    "\n",
    "        enc_out, n_vars = self.backbone.patch_embedding(x_enc)\n",
    "        enc_out, attns = self.backbone.decoder(enc_out)\n",
    "        \n",
    "        output = enc_out.reshape(B, M, -1, self.backbone.d_model)\n",
    "        output = output.mean(dim=1)\n",
    "        output = output.permute(0, 2, 1)\n",
    "\n",
    "        output = self.classification_head(output)\n",
    "\n",
    "        return output\n",
    "\n",
    "    def forward(self, x_enc, x_mark_enc=None, x_dec=None, x_mark_dec=None, mask=None):\n",
    "        if self.task_name == 'classification':\n",
    "            dec_out = self.classification(x_enc)\n",
    "            return dec_out\n",
    "\n",
    "        raise NotImplementedError"
   ]
  },
  {
   "cell_type": "markdown",
   "id": "4ba2c75c",
   "metadata": {},
   "source": [
    "# Training"
   ]
  },
  {
   "cell_type": "code",
   "execution_count": 9,
   "id": "9e7c6132",
   "metadata": {},
   "outputs": [],
   "source": [
    "def train_fold(fold_num, X_train_fold, y_train_fold, X_val_fold, y_val_fold, config):\n",
    "    print(f\"\\n{'='*25} FOLD {fold_num+1} {'='*25}\")\n",
    "    \n",
    "    class Configs:\n",
    "        def __init__(self, config_dict):\n",
    "            for key, value in config_dict.items():\n",
    "                setattr(self, key, value)\n",
    "\n",
    "    configs = Configs(config)\n",
    "    \n",
    "    model = Model(configs).cuda()\n",
    "    train_dataset = ExoDataset(X_train_fold, y_train_fold)\n",
    "    val_dataset = ExoDataset(X_val_fold, y_val_fold)\n",
    "    \n",
    "    train_loader = DataLoader(train_dataset, batch_size=config['batch_size'], shuffle=True, num_workers=config['num_workers'], pin_memory=True)\n",
    "    val_loader = DataLoader(val_dataset, batch_size=config['batch_size'], shuffle=False, num_workers=config['num_workers'], pin_memory=True)\n",
    "    \n",
    "    print(f\"Data for fold {fold_num+1} loaded: {len(train_dataset)} train, {len(val_dataset)} val samples.\")\n",
    "    \n",
    "    optimizer = torch.optim.AdamW(model.parameters(), lr=1e-4, weight_decay=1e-5)\n",
    "    scheduler = CosineAnnealingLR(optimizer, T_max=config['epoch'], eta_min=1e-6)\n",
    "    \n",
    "    counts = pd.Series(y_train_fold).value_counts()\n",
    "    pos_weight_value = counts.get(0, 1) / counts.get(1, 1)\n",
    "    pos_weight_tensor = torch.tensor([pos_weight_value], dtype=torch.float32).cuda()\n",
    "    loss_function = torch.nn.BCEWithLogitsLoss(pos_weight=pos_weight_tensor)\n",
    "    \n",
    "    scaler = GradScaler()\n",
    "    \n",
    "    best_model_path = f\"{config['save_ckpt_path']}/best_model_fold_{fold_num+1}.pth\"\n",
    "    best_val_auc = -1\n",
    "    patience = 5\n",
    "    patience_counter = 0\n",
    "\n",
    "    for epoch in range(config['epoch']):\n",
    "        model.train()\n",
    "        total_loss = 0\n",
    "        all_preds, all_targets = [], []\n",
    "        current_lr = optimizer.param_groups[0]['lr']\n",
    "        \n",
    "        progress_bar = tqdm(train_loader, desc=f'Epoch {epoch+1}/{config[\"epoch\"]} (LR: {current_lr:.6f})')\n",
    "\n",
    "        for batch in progress_bar:\n",
    "            input_x, gt = batch\n",
    "            input_x = input_x.cuda()\n",
    "            gt = gt.cuda().float().unsqueeze(1)\n",
    "\n",
    "            with autocast(\"cuda\"):\n",
    "                output = model(input_x)\n",
    "                loss = loss_function(output, gt)\n",
    "\n",
    "            optimizer.zero_grad()\n",
    "            scaler.scale(loss).backward()\n",
    "            scaler.step(optimizer)\n",
    "            scaler.update()\n",
    "\n",
    "            total_loss += loss.item()\n",
    "            all_preds.extend(torch.sigmoid(output).cpu().detach().numpy())\n",
    "            all_targets.extend(gt.cpu().detach().numpy())\n",
    "            progress_bar.set_postfix(loss=loss.item())\n",
    "\n",
    "        scheduler.step()\n",
    "        train_auc = roc_auc_score(all_targets, all_preds)\n",
    "        \n",
    "        model.eval()\n",
    "        val_preds, val_targets = [], []\n",
    "        with torch.no_grad():\n",
    "            for batch in val_loader:\n",
    "                input_x, gt = batch\n",
    "                input_x = input_x.cuda()\n",
    "                gt = gt.cuda().float().unsqueeze(1)\n",
    "                with autocast(\"cuda\"):\n",
    "                    output = model(input_x)\n",
    "                val_preds.extend(torch.sigmoid(output).cpu().numpy())\n",
    "                val_targets.extend(gt.cpu().numpy())\n",
    "\n",
    "        val_auc = roc_auc_score(val_targets, val_preds)\n",
    "        print(f\"\\nEpoch {epoch+1} Summary: Train AUC: {train_auc:.4f} | Val AUC: {val_auc:.4f}\")\n",
    "\n",
    "        if val_auc > best_val_auc:\n",
    "            print(f\"--> Val AUC improved from {best_val_auc:.4f} to {val_auc:.4f}. Saving model...\")\n",
    "            best_val_auc = val_auc\n",
    "            torch.save(model.state_dict(), best_model_path)\n",
    "            patience_counter = 0\n",
    "        else:\n",
    "            patience_counter += 1\n",
    "            print(f\"--> No improvement. Patience: {patience_counter}/{patience}. Best AUC: {best_val_auc:.4f}\")\n",
    "\n",
    "        if patience_counter >= patience:\n",
    "            print(f\"Early stopping triggered at epoch {epoch+1}.\")\n",
    "            break\n",
    "            \n",
    "    del model, train_loader, val_loader, train_dataset, val_dataset\n",
    "    gc.collect()\n",
    "    torch.cuda.empty_cache()\n",
    "\n",
    "    return best_val_auc\n",
    "\n",
    "def run_training_cv(X_data, y_data, config):\n",
    "    if not os.path.exists(config['save_ckpt_path']):\n",
    "        os.makedirs(config['save_ckpt_path'])\n",
    "\n",
    "    N_SPLITS = 5\n",
    "    skf = StratifiedKFold(n_splits=N_SPLITS, shuffle=True, random_state=42)\n",
    "    oof_scores = []\n",
    "\n",
    "    for fold, (train_idx, val_idx) in enumerate(skf.split(X_data, y_data)):\n",
    "        \n",
    "        # Split the data using the indices from StratifiedKFold\n",
    "        X_train_fold, X_val_fold = X_data[train_idx], X_data[val_idx]\n",
    "        y_train_fold, y_val_fold = y_data[train_idx], y_data[val_idx]\n",
    "        \n",
    "        best_fold_auc = train_fold(\n",
    "            fold_num=fold,\n",
    "            X_train_fold=X_train_fold, y_train_fold=y_train_fold,\n",
    "            X_val_fold=X_val_fold, y_val_fold=y_val_fold,\n",
    "            config=config\n",
    "        )\n",
    "        oof_scores.append(best_fold_auc)\n",
    "\n",
    "    print(f\"\\n{'='*25} CROSS-VALIDATION FINISHED {'='*25}\")\n",
    "    print(f\"Scores for each fold: {[f'{score:.4f}' for score in oof_scores]}\")\n",
    "    print(f\"Mean CV AUC: {np.mean(oof_scores):.4f}\")\n",
    "    print(f\"Std Dev CV AUC: {np.std(oof_scores):.4f}\")"
   ]
  },
  {
   "cell_type": "code",
   "execution_count": 10,
   "id": "84724bb3",
   "metadata": {},
   "outputs": [
    {
     "name": "stdout",
     "output_type": "stream",
     "text": [
      "\n",
      "========================= FOLD 1 =========================\n",
      "Data for fold 1 loaded: 4072 train, 1019 val samples.\n"
     ]
    },
    {
     "name": "stderr",
     "output_type": "stream",
     "text": [
      "Epoch 1/20 (LR: 0.000100): 100%|█████████████████████████████████████████████████████████████████████████████████████████████████████████████████████████████████████████████| 136/136 [01:06<00:00,  2.04it/s, loss=4.2]\n"
     ]
    },
    {
     "name": "stdout",
     "output_type": "stream",
     "text": [
      "\n",
      "Epoch 1 Summary: Train AUC: 0.4463 | Val AUC: 0.5739\n",
      "--> Val AUC improved from -1.0000 to 0.5739. Saving model...\n"
     ]
    },
    {
     "name": "stderr",
     "output_type": "stream",
     "text": [
      "Epoch 2/20 (LR: 0.000099): 100%|███████████████████████████████████████████████████████████████████████████████████████████████████████████████████████████████████████████| 136/136 [00:03<00:00, 34.73it/s, loss=0.688]\n"
     ]
    },
    {
     "name": "stdout",
     "output_type": "stream",
     "text": [
      "\n",
      "Epoch 2 Summary: Train AUC: 0.3734 | Val AUC: 0.5842\n",
      "--> Val AUC improved from 0.5739 to 0.5842. Saving model...\n"
     ]
    },
    {
     "name": "stderr",
     "output_type": "stream",
     "text": [
      "Epoch 3/20 (LR: 0.000098): 100%|████████████████████████████████████████████████████████████████████████████████████████████████████████████████████████████████████████████| 136/136 [00:03<00:00, 36.55it/s, loss=8.48]\n"
     ]
    },
    {
     "name": "stdout",
     "output_type": "stream",
     "text": [
      "\n",
      "Epoch 3 Summary: Train AUC: 0.4899 | Val AUC: 0.6771\n",
      "--> Val AUC improved from 0.5842 to 0.6771. Saving model...\n"
     ]
    },
    {
     "name": "stderr",
     "output_type": "stream",
     "text": [
      "Epoch 4/20 (LR: 0.000095): 100%|███████████████████████████████████████████████████████████████████████████████████████████████████████████████████████████████████████████| 136/136 [00:03<00:00, 36.91it/s, loss=0.764]\n"
     ]
    },
    {
     "name": "stdout",
     "output_type": "stream",
     "text": [
      "\n",
      "Epoch 4 Summary: Train AUC: 0.5564 | Val AUC: 0.7096\n",
      "--> Val AUC improved from 0.6771 to 0.7096. Saving model...\n"
     ]
    },
    {
     "name": "stderr",
     "output_type": "stream",
     "text": [
      "Epoch 5/20 (LR: 0.000091): 100%|███████████████████████████████████████████████████████████████████████████████████████████████████████████████████████████████████████████| 136/136 [00:03<00:00, 34.35it/s, loss=0.842]\n"
     ]
    },
    {
     "name": "stdout",
     "output_type": "stream",
     "text": [
      "\n",
      "Epoch 5 Summary: Train AUC: 0.5012 | Val AUC: 0.7805\n",
      "--> Val AUC improved from 0.7096 to 0.7805. Saving model...\n"
     ]
    },
    {
     "name": "stderr",
     "output_type": "stream",
     "text": [
      "Epoch 6/20 (LR: 0.000086): 100%|███████████████████████████████████████████████████████████████████████████████████████████████████████████████████████████████████████████| 136/136 [00:04<00:00, 33.78it/s, loss=0.468]\n"
     ]
    },
    {
     "name": "stdout",
     "output_type": "stream",
     "text": [
      "\n",
      "Epoch 6 Summary: Train AUC: 0.6549 | Val AUC: 0.6720\n",
      "--> No improvement. Patience: 1/5. Best AUC: 0.7805\n"
     ]
    },
    {
     "name": "stderr",
     "output_type": "stream",
     "text": [
      "Epoch 7/20 (LR: 0.000080): 100%|███████████████████████████████████████████████████████████████████████████████████████████████████████████████████████████████████████████| 136/136 [00:04<00:00, 32.56it/s, loss=0.521]\n"
     ]
    },
    {
     "name": "stdout",
     "output_type": "stream",
     "text": [
      "\n",
      "Epoch 7 Summary: Train AUC: 0.7777 | Val AUC: 0.7897\n",
      "--> Val AUC improved from 0.7805 to 0.7897. Saving model...\n"
     ]
    },
    {
     "name": "stderr",
     "output_type": "stream",
     "text": [
      "Epoch 8/20 (LR: 0.000073): 100%|███████████████████████████████████████████████████████████████████████████████████████████████████████████████████████████████████████████| 136/136 [00:04<00:00, 33.04it/s, loss=0.327]\n"
     ]
    },
    {
     "name": "stdout",
     "output_type": "stream",
     "text": [
      "\n",
      "Epoch 8 Summary: Train AUC: 0.9382 | Val AUC: 0.8089\n",
      "--> Val AUC improved from 0.7897 to 0.8089. Saving model...\n"
     ]
    },
    {
     "name": "stderr",
     "output_type": "stream",
     "text": [
      "Epoch 9/20 (LR: 0.000066): 100%|███████████████████████████████████████████████████████████████████████████████████████████████████████████████████████████████████████████| 136/136 [00:04<00:00, 31.56it/s, loss=0.442]\n"
     ]
    },
    {
     "name": "stdout",
     "output_type": "stream",
     "text": [
      "\n",
      "Epoch 9 Summary: Train AUC: 0.9722 | Val AUC: 0.8067\n",
      "--> No improvement. Patience: 1/5. Best AUC: 0.8089\n"
     ]
    },
    {
     "name": "stderr",
     "output_type": "stream",
     "text": [
      "Epoch 10/20 (LR: 0.000058): 100%|█████████████████████████████████████████████████████████████████████████████████████████████████████████████████████████████████████████| 136/136 [00:06<00:00, 19.91it/s, loss=0.0188]\n"
     ]
    },
    {
     "name": "stdout",
     "output_type": "stream",
     "text": [
      "\n",
      "Epoch 10 Summary: Train AUC: 0.9912 | Val AUC: 0.8282\n",
      "--> Val AUC improved from 0.8089 to 0.8282. Saving model...\n"
     ]
    },
    {
     "name": "stderr",
     "output_type": "stream",
     "text": [
      "Epoch 11/20 (LR: 0.000051): 100%|██████████████████████████████████████████████████████████████████████████████████████████████████████████████████████████████████████████| 136/136 [00:04<00:00, 28.08it/s, loss=0.161]\n"
     ]
    },
    {
     "name": "stdout",
     "output_type": "stream",
     "text": [
      "\n",
      "Epoch 11 Summary: Train AUC: 0.9958 | Val AUC: 0.8370\n",
      "--> Val AUC improved from 0.8282 to 0.8370. Saving model...\n"
     ]
    },
    {
     "name": "stderr",
     "output_type": "stream",
     "text": [
      "Epoch 12/20 (LR: 0.000043): 100%|██████████████████████████████████████████████████████████████████████████████████████████████████████████████████████████████████████████| 136/136 [00:04<00:00, 29.07it/s, loss=0.205]\n"
     ]
    },
    {
     "name": "stdout",
     "output_type": "stream",
     "text": [
      "\n",
      "Epoch 12 Summary: Train AUC: 0.9972 | Val AUC: 0.8350\n",
      "--> No improvement. Patience: 1/5. Best AUC: 0.8370\n"
     ]
    },
    {
     "name": "stderr",
     "output_type": "stream",
     "text": [
      "Epoch 13/20 (LR: 0.000035): 100%|████████████████████████████████████████████████████████████████████████████████████████████████████████████████████████████████████████| 136/136 [00:04<00:00, 27.29it/s, loss=0.00621]\n"
     ]
    },
    {
     "name": "stdout",
     "output_type": "stream",
     "text": [
      "\n",
      "Epoch 13 Summary: Train AUC: 0.9961 | Val AUC: 0.8446\n",
      "--> Val AUC improved from 0.8370 to 0.8446. Saving model...\n"
     ]
    },
    {
     "name": "stderr",
     "output_type": "stream",
     "text": [
      "Epoch 14/20 (LR: 0.000028): 100%|█████████████████████████████████████████████████████████████████████████████████████████████████████████████████████████████████████████| 136/136 [00:04<00:00, 29.87it/s, loss=0.0337]\n"
     ]
    },
    {
     "name": "stdout",
     "output_type": "stream",
     "text": [
      "\n",
      "Epoch 14 Summary: Train AUC: 0.9984 | Val AUC: 0.8367\n",
      "--> No improvement. Patience: 1/5. Best AUC: 0.8446\n"
     ]
    },
    {
     "name": "stderr",
     "output_type": "stream",
     "text": [
      "Epoch 15/20 (LR: 0.000021): 100%|█████████████████████████████████████████████████████████████████████████████████████████████████████████████████████████████████████████| 136/136 [00:05<00:00, 27.00it/s, loss=0.0168]\n"
     ]
    },
    {
     "name": "stdout",
     "output_type": "stream",
     "text": [
      "\n",
      "Epoch 15 Summary: Train AUC: 0.9990 | Val AUC: 0.8390\n",
      "--> No improvement. Patience: 2/5. Best AUC: 0.8446\n"
     ]
    },
    {
     "name": "stderr",
     "output_type": "stream",
     "text": [
      "Epoch 16/20 (LR: 0.000015): 100%|█████████████████████████████████████████████████████████████████████████████████████████████████████████████████████████████████████████| 136/136 [00:06<00:00, 19.78it/s, loss=0.0528]\n"
     ]
    },
    {
     "name": "stdout",
     "output_type": "stream",
     "text": [
      "\n",
      "Epoch 16 Summary: Train AUC: 0.9987 | Val AUC: 0.8462\n",
      "--> Val AUC improved from 0.8446 to 0.8462. Saving model...\n"
     ]
    },
    {
     "name": "stderr",
     "output_type": "stream",
     "text": [
      "Epoch 17/20 (LR: 0.000010): 100%|████████████████████████████████████████████████████████████████████████████████████████████████████████████████████████████████████████| 136/136 [00:04<00:00, 32.78it/s, loss=0.00184]\n"
     ]
    },
    {
     "name": "stdout",
     "output_type": "stream",
     "text": [
      "\n",
      "Epoch 17 Summary: Train AUC: 0.9988 | Val AUC: 0.8437\n",
      "--> No improvement. Patience: 1/5. Best AUC: 0.8462\n"
     ]
    },
    {
     "name": "stderr",
     "output_type": "stream",
     "text": [
      "Epoch 18/20 (LR: 0.000006): 100%|██████████████████████████████████████████████████████████████████████████████████████████████████████████████████████████████████████████| 136/136 [00:04<00:00, 33.15it/s, loss=0.357]\n"
     ]
    },
    {
     "name": "stdout",
     "output_type": "stream",
     "text": [
      "\n",
      "Epoch 18 Summary: Train AUC: 0.9992 | Val AUC: 0.8455\n",
      "--> No improvement. Patience: 2/5. Best AUC: 0.8462\n"
     ]
    },
    {
     "name": "stderr",
     "output_type": "stream",
     "text": [
      "Epoch 19/20 (LR: 0.000003): 100%|████████████████████████████████████████████████████████████████████████████████████████████████████████████████████████████████████████| 136/136 [00:04<00:00, 32.53it/s, loss=0.00304]\n"
     ]
    },
    {
     "name": "stdout",
     "output_type": "stream",
     "text": [
      "\n",
      "Epoch 19 Summary: Train AUC: 0.9992 | Val AUC: 0.8450\n",
      "--> No improvement. Patience: 3/5. Best AUC: 0.8462\n"
     ]
    },
    {
     "name": "stderr",
     "output_type": "stream",
     "text": [
      "Epoch 20/20 (LR: 0.000002): 100%|█████████████████████████████████████████████████████████████████████████████████████████████████████████████████████████████████████████| 136/136 [00:04<00:00, 30.02it/s, loss=0.0433]\n"
     ]
    },
    {
     "name": "stdout",
     "output_type": "stream",
     "text": [
      "\n",
      "Epoch 20 Summary: Train AUC: 0.9998 | Val AUC: 0.8449\n",
      "--> No improvement. Patience: 4/5. Best AUC: 0.8462\n",
      "\n",
      "========================= FOLD 2 =========================\n",
      "Data for fold 2 loaded: 4073 train, 1018 val samples.\n"
     ]
    },
    {
     "name": "stderr",
     "output_type": "stream",
     "text": [
      "Epoch 1/20 (LR: 0.000100): 100%|███████████████████████████████████████████████████████████████████████████████████████████████████████████████████████████████████████████| 136/136 [00:03<00:00, 34.42it/s, loss=0.915]\n"
     ]
    },
    {
     "name": "stdout",
     "output_type": "stream",
     "text": [
      "\n",
      "Epoch 1 Summary: Train AUC: 0.4269 | Val AUC: 0.6474\n",
      "--> Val AUC improved from -1.0000 to 0.6474. Saving model...\n"
     ]
    },
    {
     "name": "stderr",
     "output_type": "stream",
     "text": [
      "Epoch 2/20 (LR: 0.000099): 100%|████████████████████████████████████████████████████████████████████████████████████████████████████████████████████████████████████████████| 136/136 [00:04<00:00, 31.31it/s, loss=4.72]\n"
     ]
    },
    {
     "name": "stdout",
     "output_type": "stream",
     "text": [
      "\n",
      "Epoch 2 Summary: Train AUC: 0.4884 | Val AUC: 0.6372\n",
      "--> No improvement. Patience: 1/5. Best AUC: 0.6474\n"
     ]
    },
    {
     "name": "stderr",
     "output_type": "stream",
     "text": [
      "Epoch 3/20 (LR: 0.000098): 100%|███████████████████████████████████████████████████████████████████████████████████████████████████████████████████████████████████████████| 136/136 [00:05<00:00, 23.26it/s, loss=0.834]\n"
     ]
    },
    {
     "name": "stdout",
     "output_type": "stream",
     "text": [
      "\n",
      "Epoch 3 Summary: Train AUC: 0.5701 | Val AUC: 0.6382\n",
      "--> No improvement. Patience: 2/5. Best AUC: 0.6474\n"
     ]
    },
    {
     "name": "stderr",
     "output_type": "stream",
     "text": [
      "Epoch 4/20 (LR: 0.000095): 100%|███████████████████████████████████████████████████████████████████████████████████████████████████████████████████████████████████████████| 136/136 [00:04<00:00, 31.97it/s, loss=0.715]\n"
     ]
    },
    {
     "name": "stdout",
     "output_type": "stream",
     "text": [
      "\n",
      "Epoch 4 Summary: Train AUC: 0.6067 | Val AUC: 0.6071\n",
      "--> No improvement. Patience: 3/5. Best AUC: 0.6474\n"
     ]
    },
    {
     "name": "stderr",
     "output_type": "stream",
     "text": [
      "Epoch 5/20 (LR: 0.000091): 100%|█████████████████████████████████| 136/136 [00:03<00:00, 34.73it/s, loss=0.876]\n"
     ]
    },
    {
     "name": "stdout",
     "output_type": "stream",
     "text": [
      "\n",
      "Epoch 5 Summary: Train AUC: 0.7041 | Val AUC: 0.6041\n",
      "--> No improvement. Patience: 4/5. Best AUC: 0.6474\n"
     ]
    },
    {
     "name": "stderr",
     "output_type": "stream",
     "text": [
      "Epoch 6/20 (LR: 0.000086): 100%|███████████████████████████████████████████████████████████████████████████████████████████████████████████████████████████████████████████████████████| 136/136 [00:03<00:00, 34.22it/s, loss=0.809]\n"
     ]
    },
    {
     "name": "stdout",
     "output_type": "stream",
     "text": [
      "\n",
      "Epoch 6 Summary: Train AUC: 0.7866 | Val AUC: 0.6315\n",
      "--> No improvement. Patience: 5/5. Best AUC: 0.6474\n",
      "Early stopping triggered at epoch 6.\n",
      "\n",
      "========================= FOLD 3 =========================\n",
      "Data for fold 3 loaded: 4073 train, 1018 val samples.\n"
     ]
    },
    {
     "name": "stderr",
     "output_type": "stream",
     "text": [
      "Epoch 1/20 (LR: 0.000100): 100%|███████████████████████████████████████████████████████████████████████████████████████████████████████████████████████████████████████████████████████| 136/136 [00:03<00:00, 34.83it/s, loss=0.572]\n"
     ]
    },
    {
     "name": "stdout",
     "output_type": "stream",
     "text": [
      "\n",
      "Epoch 1 Summary: Train AUC: 0.4001 | Val AUC: 0.6607\n",
      "--> Val AUC improved from -1.0000 to 0.6607. Saving model...\n"
     ]
    },
    {
     "name": "stderr",
     "output_type": "stream",
     "text": [
      "Epoch 2/20 (LR: 0.000099): 100%|███████████████████████████████████████████████████████████████████████████████████████████████████████████████████████████████████████████████████████| 136/136 [00:04<00:00, 29.35it/s, loss=0.623]\n"
     ]
    },
    {
     "name": "stdout",
     "output_type": "stream",
     "text": [
      "\n",
      "Epoch 2 Summary: Train AUC: 0.5250 | Val AUC: 0.6354\n",
      "--> No improvement. Patience: 1/5. Best AUC: 0.6607\n"
     ]
    },
    {
     "name": "stderr",
     "output_type": "stream",
     "text": [
      "Epoch 3/20 (LR: 0.000098): 100%|████████████████████████████████████████████████████████████████████████████████████████████████████████████████████████████████████████████████████████| 136/136 [00:04<00:00, 33.05it/s, loss=0.63]\n"
     ]
    },
    {
     "name": "stdout",
     "output_type": "stream",
     "text": [
      "\n",
      "Epoch 3 Summary: Train AUC: 0.5196 | Val AUC: 0.6502\n",
      "--> No improvement. Patience: 2/5. Best AUC: 0.6607\n"
     ]
    },
    {
     "name": "stderr",
     "output_type": "stream",
     "text": [
      "Epoch 4/20 (LR: 0.000095): 100%|████████████████████████████████████████████████████████████████████████████████████████████████████████████████████████████████████████████████████████| 136/136 [00:03<00:00, 34.45it/s, loss=5.28]\n"
     ]
    },
    {
     "name": "stdout",
     "output_type": "stream",
     "text": [
      "\n",
      "Epoch 4 Summary: Train AUC: 0.5460 | Val AUC: 0.6776\n",
      "--> Val AUC improved from 0.6607 to 0.6776. Saving model...\n"
     ]
    },
    {
     "name": "stderr",
     "output_type": "stream",
     "text": [
      "Epoch 5/20 (LR: 0.000091): 100%|███████████████████████████████████████████████████████████████████████████████████████████████████████████████████████████████████████████████████████| 136/136 [00:03<00:00, 36.06it/s, loss=0.575]\n"
     ]
    },
    {
     "name": "stdout",
     "output_type": "stream",
     "text": [
      "\n",
      "Epoch 5 Summary: Train AUC: 0.6439 | Val AUC: 0.7197\n",
      "--> Val AUC improved from 0.6776 to 0.7197. Saving model...\n"
     ]
    },
    {
     "name": "stderr",
     "output_type": "stream",
     "text": [
      "Epoch 6/20 (LR: 0.000086): 100%|███████████████████████████████████████████████████████████████████████████████████████████████████████████████████████████████████████████████████████| 136/136 [00:03<00:00, 34.88it/s, loss=0.798]\n"
     ]
    },
    {
     "name": "stdout",
     "output_type": "stream",
     "text": [
      "\n",
      "Epoch 6 Summary: Train AUC: 0.7856 | Val AUC: 0.8092\n",
      "--> Val AUC improved from 0.7197 to 0.8092. Saving model...\n"
     ]
    },
    {
     "name": "stderr",
     "output_type": "stream",
     "text": [
      "Epoch 7/20 (LR: 0.000080): 100%|███████████████████████████████████████████████████████████████████████████████████████████████████████████████████████████████████████████████████████| 136/136 [00:04<00:00, 29.56it/s, loss=0.692]\n"
     ]
    },
    {
     "name": "stdout",
     "output_type": "stream",
     "text": [
      "\n",
      "Epoch 7 Summary: Train AUC: 0.8903 | Val AUC: 0.8825\n",
      "--> Val AUC improved from 0.8092 to 0.8825. Saving model...\n"
     ]
    },
    {
     "name": "stderr",
     "output_type": "stream",
     "text": [
      "Epoch 8/20 (LR: 0.000073): 100%|███████████████████████████████████████████████████████████████████████████████████████████████████████████████████████████████████████████████████████| 136/136 [00:04<00:00, 31.33it/s, loss=0.124]\n"
     ]
    },
    {
     "name": "stdout",
     "output_type": "stream",
     "text": [
      "\n",
      "Epoch 8 Summary: Train AUC: 0.9716 | Val AUC: 0.9670\n",
      "--> Val AUC improved from 0.8825 to 0.9670. Saving model...\n"
     ]
    },
    {
     "name": "stderr",
     "output_type": "stream",
     "text": [
      "Epoch 9/20 (LR: 0.000066): 100%|██████████████████████████████████████████████████████████████████████████████████████████████████████████████████████████████████████████████████████| 136/136 [00:04<00:00, 33.78it/s, loss=0.0257]\n"
     ]
    },
    {
     "name": "stdout",
     "output_type": "stream",
     "text": [
      "\n",
      "Epoch 9 Summary: Train AUC: 0.9909 | Val AUC: 0.9784\n",
      "--> Val AUC improved from 0.9670 to 0.9784. Saving model...\n"
     ]
    },
    {
     "name": "stderr",
     "output_type": "stream",
     "text": [
      "Epoch 10/20 (LR: 0.000058): 100%|██████████████████████████████████████████████████████████████████████████████████████████████████████████████████████████████████████████████████████| 136/136 [00:06<00:00, 22.49it/s, loss=0.205]\n"
     ]
    },
    {
     "name": "stdout",
     "output_type": "stream",
     "text": [
      "\n",
      "Epoch 10 Summary: Train AUC: 0.9922 | Val AUC: 0.9878\n",
      "--> Val AUC improved from 0.9784 to 0.9878. Saving model...\n"
     ]
    },
    {
     "name": "stderr",
     "output_type": "stream",
     "text": [
      "Epoch 11/20 (LR: 0.000051): 100%|██████████████████████████████████████████████████████████████████████████████████████████████████████████████████████████████████████████████████████| 136/136 [00:03<00:00, 35.79it/s, loss=0.172]\n"
     ]
    },
    {
     "name": "stdout",
     "output_type": "stream",
     "text": [
      "\n",
      "Epoch 11 Summary: Train AUC: 0.9953 | Val AUC: 0.9905\n",
      "--> Val AUC improved from 0.9878 to 0.9905. Saving model...\n"
     ]
    },
    {
     "name": "stderr",
     "output_type": "stream",
     "text": [
      "Epoch 12/20 (LR: 0.000043): 100%|█████████████████████████████████████████████████████████████████████████████████████████████████████████████████████████████████████████████████████| 136/136 [00:04<00:00, 33.68it/s, loss=0.0794]\n"
     ]
    },
    {
     "name": "stdout",
     "output_type": "stream",
     "text": [
      "\n",
      "Epoch 12 Summary: Train AUC: 0.9957 | Val AUC: 0.9846\n",
      "--> No improvement. Patience: 1/5. Best AUC: 0.9905\n"
     ]
    },
    {
     "name": "stderr",
     "output_type": "stream",
     "text": [
      "Epoch 13/20 (LR: 0.000035): 100%|█████████████████████████████████████████████████████████████████████████████████████████████████████████████████████████████████████████████████████| 136/136 [00:03<00:00, 34.15it/s, loss=0.0466]\n"
     ]
    },
    {
     "name": "stdout",
     "output_type": "stream",
     "text": [
      "\n",
      "Epoch 13 Summary: Train AUC: 0.9949 | Val AUC: 0.9915\n",
      "--> Val AUC improved from 0.9905 to 0.9915. Saving model...\n"
     ]
    },
    {
     "name": "stderr",
     "output_type": "stream",
     "text": [
      "Epoch 14/20 (LR: 0.000028): 100%|█████████████████████████████████████████████████████████████████████████████████████████████████████████████████████████████████████████████████████| 136/136 [00:04<00:00, 33.42it/s, loss=0.0148]\n"
     ]
    },
    {
     "name": "stdout",
     "output_type": "stream",
     "text": [
      "\n",
      "Epoch 14 Summary: Train AUC: 0.9986 | Val AUC: 0.9911\n",
      "--> No improvement. Patience: 1/5. Best AUC: 0.9915\n"
     ]
    },
    {
     "name": "stderr",
     "output_type": "stream",
     "text": [
      "Epoch 15/20 (LR: 0.000021): 100%|██████████████████████████████████████████████████████████████████████████████████████████████████████████████████████████████████████████████████████| 136/136 [00:04<00:00, 33.48it/s, loss=0.567]\n"
     ]
    },
    {
     "name": "stdout",
     "output_type": "stream",
     "text": [
      "\n",
      "Epoch 15 Summary: Train AUC: 0.9984 | Val AUC: 0.9893\n",
      "--> No improvement. Patience: 2/5. Best AUC: 0.9915\n"
     ]
    },
    {
     "name": "stderr",
     "output_type": "stream",
     "text": [
      "Epoch 16/20 (LR: 0.000015): 100%|████████████████████████████████████████████████████████████████████████████████████████████████████████████████████████████████████████████████████| 136/136 [00:04<00:00, 32.07it/s, loss=0.00327]\n"
     ]
    },
    {
     "name": "stdout",
     "output_type": "stream",
     "text": [
      "\n",
      "Epoch 16 Summary: Train AUC: 0.9990 | Val AUC: 0.9893\n",
      "--> No improvement. Patience: 3/5. Best AUC: 0.9915\n"
     ]
    },
    {
     "name": "stderr",
     "output_type": "stream",
     "text": [
      "Epoch 17/20 (LR: 0.000010): 100%|█████████████████████████████████████████████████████████████████████████████████████████████████████████████████████████████████████████████████████| 136/136 [00:06<00:00, 22.59it/s, loss=0.0805]\n"
     ]
    },
    {
     "name": "stdout",
     "output_type": "stream",
     "text": [
      "\n",
      "Epoch 17 Summary: Train AUC: 0.9993 | Val AUC: 0.9910\n",
      "--> No improvement. Patience: 4/5. Best AUC: 0.9915\n"
     ]
    },
    {
     "name": "stderr",
     "output_type": "stream",
     "text": [
      "Epoch 18/20 (LR: 0.000006): 100%|██████████████████████████████████████████████████████████████████████████████████████████████████████████████████████████████████████████████████████| 136/136 [00:04<00:00, 27.27it/s, loss=0.168]\n"
     ]
    },
    {
     "name": "stdout",
     "output_type": "stream",
     "text": [
      "\n",
      "Epoch 18 Summary: Train AUC: 0.9991 | Val AUC: 0.9911\n",
      "--> No improvement. Patience: 5/5. Best AUC: 0.9915\n",
      "Early stopping triggered at epoch 18.\n",
      "\n",
      "========================= FOLD 4 =========================\n",
      "Data for fold 4 loaded: 4073 train, 1018 val samples.\n"
     ]
    },
    {
     "name": "stderr",
     "output_type": "stream",
     "text": [
      "Epoch 1/20 (LR: 0.000100): 100%|████████████████████████████████████████████████████████████████████████████████████████████████████████████████████████████████████████████████████████| 136/136 [00:03<00:00, 34.81it/s, loss=1.03]\n"
     ]
    },
    {
     "name": "stdout",
     "output_type": "stream",
     "text": [
      "\n",
      "Epoch 1 Summary: Train AUC: 0.5306 | Val AUC: 0.4526\n",
      "--> Val AUC improved from -1.0000 to 0.4526. Saving model...\n"
     ]
    },
    {
     "name": "stderr",
     "output_type": "stream",
     "text": [
      "Epoch 2/20 (LR: 0.000099): 100%|████████████████████████████████████████████████████████████████████████████████████████████████████████████████████████████████████████████████████████| 136/136 [00:04<00:00, 32.03it/s, loss=3.18]\n"
     ]
    },
    {
     "name": "stdout",
     "output_type": "stream",
     "text": [
      "\n",
      "Epoch 2 Summary: Train AUC: 0.5623 | Val AUC: 0.5196\n",
      "--> Val AUC improved from 0.4526 to 0.5196. Saving model...\n"
     ]
    },
    {
     "name": "stderr",
     "output_type": "stream",
     "text": [
      "Epoch 3/20 (LR: 0.000098): 100%|███████████████████████████████████████████████████████████████████████████████████████████████████████████████████████████████████████████████████████| 136/136 [00:04<00:00, 29.71it/s, loss=0.528]\n"
     ]
    },
    {
     "name": "stdout",
     "output_type": "stream",
     "text": [
      "\n",
      "Epoch 3 Summary: Train AUC: 0.4940 | Val AUC: 0.7215\n",
      "--> Val AUC improved from 0.5196 to 0.7215. Saving model...\n"
     ]
    },
    {
     "name": "stderr",
     "output_type": "stream",
     "text": [
      "Epoch 4/20 (LR: 0.000095): 100%|████████████████████████████████████████████████████████████████████████████████████████████████████████████████████████████████████████████████████████| 136/136 [00:04<00:00, 27.61it/s, loss=0.66]\n"
     ]
    },
    {
     "name": "stdout",
     "output_type": "stream",
     "text": [
      "\n",
      "Epoch 4 Summary: Train AUC: 0.5303 | Val AUC: 0.8321\n",
      "--> Val AUC improved from 0.7215 to 0.8321. Saving model...\n"
     ]
    },
    {
     "name": "stderr",
     "output_type": "stream",
     "text": [
      "Epoch 5/20 (LR: 0.000091): 100%|███████████████████████████████████████████████████████████████████████████████████████████████████████████████████████████████████████████████████████| 136/136 [00:06<00:00, 20.49it/s, loss=0.224]\n"
     ]
    },
    {
     "name": "stdout",
     "output_type": "stream",
     "text": [
      "\n",
      "Epoch 5 Summary: Train AUC: 0.6685 | Val AUC: 0.8829\n",
      "--> Val AUC improved from 0.8321 to 0.8829. Saving model...\n"
     ]
    },
    {
     "name": "stderr",
     "output_type": "stream",
     "text": [
      "Epoch 6/20 (LR: 0.000086): 100%|████████████████████████████████████████████████████████████████████████████████████████████████████████████████████████████████████████████████████████| 136/136 [00:04<00:00, 27.48it/s, loss=1.96]\n"
     ]
    },
    {
     "name": "stdout",
     "output_type": "stream",
     "text": [
      "\n",
      "Epoch 6 Summary: Train AUC: 0.8099 | Val AUC: 0.9108\n",
      "--> Val AUC improved from 0.8829 to 0.9108. Saving model...\n"
     ]
    },
    {
     "name": "stderr",
     "output_type": "stream",
     "text": [
      "Epoch 7/20 (LR: 0.000080): 100%|███████████████████████████████████████████████████████████████████████████████████████████████████████████████████████████████████████████████████████| 136/136 [00:04<00:00, 28.33it/s, loss=0.557]\n"
     ]
    },
    {
     "name": "stdout",
     "output_type": "stream",
     "text": [
      "\n",
      "Epoch 7 Summary: Train AUC: 0.9127 | Val AUC: 0.9535\n",
      "--> Val AUC improved from 0.9108 to 0.9535. Saving model...\n"
     ]
    },
    {
     "name": "stderr",
     "output_type": "stream",
     "text": [
      "Epoch 8/20 (LR: 0.000073): 100%|████████████████████████████████████████████████████████████████████████████████████████████████████████████████████████████████████████████████████████| 136/136 [00:04<00:00, 28.18it/s, loss=3.02]\n"
     ]
    },
    {
     "name": "stdout",
     "output_type": "stream",
     "text": [
      "\n",
      "Epoch 8 Summary: Train AUC: 0.9750 | Val AUC: 0.9725\n",
      "--> Val AUC improved from 0.9535 to 0.9725. Saving model...\n"
     ]
    },
    {
     "name": "stderr",
     "output_type": "stream",
     "text": [
      "Epoch 9/20 (LR: 0.000066): 100%|███████████████████████████████████████████████████████████████████████████████████████████████████████████████████████████████████████████████████████| 136/136 [00:04<00:00, 28.72it/s, loss=0.165]\n"
     ]
    },
    {
     "name": "stdout",
     "output_type": "stream",
     "text": [
      "\n",
      "Epoch 9 Summary: Train AUC: 0.9826 | Val AUC: 0.9781\n",
      "--> Val AUC improved from 0.9725 to 0.9781. Saving model...\n"
     ]
    },
    {
     "name": "stderr",
     "output_type": "stream",
     "text": [
      "Epoch 10/20 (LR: 0.000058): 100%|██████████████████████████████████████████████████████████████████████████████████████████████████████████████████████████████████████████████████████| 136/136 [00:04<00:00, 27.93it/s, loss=0.138]\n"
     ]
    },
    {
     "name": "stdout",
     "output_type": "stream",
     "text": [
      "\n",
      "Epoch 10 Summary: Train AUC: 0.9914 | Val AUC: 0.9812\n",
      "--> Val AUC improved from 0.9781 to 0.9812. Saving model...\n"
     ]
    },
    {
     "name": "stderr",
     "output_type": "stream",
     "text": [
      "Epoch 11/20 (LR: 0.000051): 100%|██████████████████████████████████████████████████████████████████████████████████████████████████████████████████████████████████████████████████████| 136/136 [00:07<00:00, 18.62it/s, loss=0.181]\n"
     ]
    },
    {
     "name": "stdout",
     "output_type": "stream",
     "text": [
      "\n",
      "Epoch 11 Summary: Train AUC: 0.9938 | Val AUC: 0.9795\n",
      "--> No improvement. Patience: 1/5. Best AUC: 0.9812\n"
     ]
    },
    {
     "name": "stderr",
     "output_type": "stream",
     "text": [
      "Epoch 12/20 (LR: 0.000043): 100%|██████████████████████████████████████████████████████████████████████████████████████████████████████████████████████████████████████████████████████| 136/136 [00:04<00:00, 32.01it/s, loss=0.012]\n"
     ]
    },
    {
     "name": "stdout",
     "output_type": "stream",
     "text": [
      "\n",
      "Epoch 12 Summary: Train AUC: 0.9956 | Val AUC: 0.9834\n",
      "--> Val AUC improved from 0.9812 to 0.9834. Saving model...\n"
     ]
    },
    {
     "name": "stderr",
     "output_type": "stream",
     "text": [
      "Epoch 13/20 (LR: 0.000035): 100%|██████████████████████████████████████████████████████████████████████████████████████████████████████████████████████████████████████████████████████| 136/136 [00:04<00:00, 30.73it/s, loss=0.223]\n"
     ]
    },
    {
     "name": "stdout",
     "output_type": "stream",
     "text": [
      "\n",
      "Epoch 13 Summary: Train AUC: 0.9970 | Val AUC: 0.9874\n",
      "--> Val AUC improved from 0.9834 to 0.9874. Saving model...\n"
     ]
    },
    {
     "name": "stderr",
     "output_type": "stream",
     "text": [
      "Epoch 14/20 (LR: 0.000028): 100%|████████████████████████████████████████████████████████████████████████████████████████████████████████████████████████████████████████████████████| 136/136 [00:04<00:00, 33.40it/s, loss=0.00626]\n"
     ]
    },
    {
     "name": "stdout",
     "output_type": "stream",
     "text": [
      "\n",
      "Epoch 14 Summary: Train AUC: 0.9971 | Val AUC: 0.9864\n",
      "--> No improvement. Patience: 1/5. Best AUC: 0.9874\n"
     ]
    },
    {
     "name": "stderr",
     "output_type": "stream",
     "text": [
      "Epoch 15/20 (LR: 0.000021): 100%|██████████████████████████████████████████████████████████████████████████████████████████████████████████████████████████████████████████████████████| 136/136 [00:03<00:00, 35.84it/s, loss=0.192]\n"
     ]
    },
    {
     "name": "stdout",
     "output_type": "stream",
     "text": [
      "\n",
      "Epoch 15 Summary: Train AUC: 0.9970 | Val AUC: 0.9870\n",
      "--> No improvement. Patience: 2/5. Best AUC: 0.9874\n"
     ]
    },
    {
     "name": "stderr",
     "output_type": "stream",
     "text": [
      "Epoch 16/20 (LR: 0.000015): 100%|█████████████████████████████████████████████████████████████████████████████████████████████████████████████████████████████████████████████████████| 136/136 [00:04<00:00, 30.90it/s, loss=0.0607]\n"
     ]
    },
    {
     "name": "stdout",
     "output_type": "stream",
     "text": [
      "\n",
      "Epoch 16 Summary: Train AUC: 0.9977 | Val AUC: 0.9868\n",
      "--> No improvement. Patience: 3/5. Best AUC: 0.9874\n"
     ]
    },
    {
     "name": "stderr",
     "output_type": "stream",
     "text": [
      "Epoch 17/20 (LR: 0.000010): 100%|██████████████████████████████████████████████████████████████████████████████████████████████████████████████████████████████████████████████████████| 136/136 [00:04<00:00, 32.05it/s, loss=0.108]\n"
     ]
    },
    {
     "name": "stdout",
     "output_type": "stream",
     "text": [
      "\n",
      "Epoch 17 Summary: Train AUC: 0.9978 | Val AUC: 0.9873\n",
      "--> No improvement. Patience: 4/5. Best AUC: 0.9874\n"
     ]
    },
    {
     "name": "stderr",
     "output_type": "stream",
     "text": [
      "Epoch 18/20 (LR: 0.000006): 100%|████████████████████████████████████████████████████████████████████████████████████████████████████████████████████████████████████████████████████| 136/136 [00:06<00:00, 20.56it/s, loss=0.00195]\n"
     ]
    },
    {
     "name": "stdout",
     "output_type": "stream",
     "text": [
      "\n",
      "Epoch 18 Summary: Train AUC: 0.9974 | Val AUC: 0.9889\n",
      "--> Val AUC improved from 0.9874 to 0.9889. Saving model...\n"
     ]
    },
    {
     "name": "stderr",
     "output_type": "stream",
     "text": [
      "Epoch 19/20 (LR: 0.000003): 100%|██████████████████████████████████████████████████████████████████████████████████████████████████████████████████████████████████████████████████████| 136/136 [00:04<00:00, 27.54it/s, loss=0.123]\n"
     ]
    },
    {
     "name": "stdout",
     "output_type": "stream",
     "text": [
      "\n",
      "Epoch 19 Summary: Train AUC: 0.9988 | Val AUC: 0.9892\n",
      "--> Val AUC improved from 0.9889 to 0.9892. Saving model...\n"
     ]
    },
    {
     "name": "stderr",
     "output_type": "stream",
     "text": [
      "Epoch 20/20 (LR: 0.000002): 100%|█████████████████████████████████████████████████████████████████████████████████████████████████████████████████████████████████████████████████████| 136/136 [00:04<00:00, 29.64it/s, loss=0.0597]\n"
     ]
    },
    {
     "name": "stdout",
     "output_type": "stream",
     "text": [
      "\n",
      "Epoch 20 Summary: Train AUC: 0.9985 | Val AUC: 0.9896\n",
      "--> Val AUC improved from 0.9892 to 0.9896. Saving model...\n",
      "\n",
      "========================= FOLD 5 =========================\n",
      "Data for fold 5 loaded: 4073 train, 1018 val samples.\n"
     ]
    },
    {
     "name": "stderr",
     "output_type": "stream",
     "text": [
      "Epoch 1/20 (LR: 0.000100): 100%|███████████████████████████████████████████████████████████████████████████████████████████████████████████████████████████████████████████████████████| 136/136 [00:04<00:00, 27.49it/s, loss=0.685]\n"
     ]
    },
    {
     "name": "stdout",
     "output_type": "stream",
     "text": [
      "\n",
      "Epoch 1 Summary: Train AUC: 0.4172 | Val AUC: 0.7713\n",
      "--> Val AUC improved from -1.0000 to 0.7713. Saving model...\n"
     ]
    },
    {
     "name": "stderr",
     "output_type": "stream",
     "text": [
      "Epoch 2/20 (LR: 0.000099): 100%|███████████████████████████████████████████████████████████████████████████████████████████████████████████████████████████████████████████████████████| 136/136 [00:04<00:00, 31.38it/s, loss=0.807]\n"
     ]
    },
    {
     "name": "stdout",
     "output_type": "stream",
     "text": [
      "\n",
      "Epoch 2 Summary: Train AUC: 0.4780 | Val AUC: 0.7577\n",
      "--> No improvement. Patience: 1/5. Best AUC: 0.7713\n"
     ]
    },
    {
     "name": "stderr",
     "output_type": "stream",
     "text": [
      "Epoch 3/20 (LR: 0.000098): 100%|███████████████████████████████████████████████████████████████████████████████████████████████████████████████████████████████████████████████████████| 136/136 [00:04<00:00, 29.57it/s, loss=0.772]\n"
     ]
    },
    {
     "name": "stdout",
     "output_type": "stream",
     "text": [
      "\n",
      "Epoch 3 Summary: Train AUC: 0.4825 | Val AUC: 0.7619\n",
      "--> No improvement. Patience: 2/5. Best AUC: 0.7713\n"
     ]
    },
    {
     "name": "stderr",
     "output_type": "stream",
     "text": [
      "Epoch 4/20 (LR: 0.000095): 100%|████████████████████████████████████████████████████████████████████████████████████████████████████████████████████████████████████████████████████████| 136/136 [00:07<00:00, 18.71it/s, loss=0.73]\n"
     ]
    },
    {
     "name": "stdout",
     "output_type": "stream",
     "text": [
      "\n",
      "Epoch 4 Summary: Train AUC: 0.5258 | Val AUC: 0.7645\n",
      "--> No improvement. Patience: 3/5. Best AUC: 0.7713\n"
     ]
    },
    {
     "name": "stderr",
     "output_type": "stream",
     "text": [
      "Epoch 5/20 (LR: 0.000091): 100%|███████████████████████████████████████████████████████████████████████████████████████████████████████████████████████████████████████████████████████| 136/136 [00:04<00:00, 30.07it/s, loss=0.569]\n"
     ]
    },
    {
     "name": "stdout",
     "output_type": "stream",
     "text": [
      "\n",
      "Epoch 5 Summary: Train AUC: 0.5808 | Val AUC: 0.8099\n",
      "--> Val AUC improved from 0.7713 to 0.8099. Saving model...\n"
     ]
    },
    {
     "name": "stderr",
     "output_type": "stream",
     "text": [
      "Epoch 6/20 (LR: 0.000086): 100%|███████████████████████████████████████████████████████████████████████████████████████████████████████████████████████████████████████████████████████| 136/136 [00:04<00:00, 32.73it/s, loss=0.481]\n"
     ]
    },
    {
     "name": "stdout",
     "output_type": "stream",
     "text": [
      "\n",
      "Epoch 6 Summary: Train AUC: 0.6632 | Val AUC: 0.8267\n",
      "--> Val AUC improved from 0.8099 to 0.8267. Saving model...\n"
     ]
    },
    {
     "name": "stderr",
     "output_type": "stream",
     "text": [
      "Epoch 7/20 (LR: 0.000080): 100%|███████████████████████████████████████████████████████████████████████████████████████████████████████████████████████████████████████████████████████| 136/136 [00:04<00:00, 32.88it/s, loss=0.509]\n"
     ]
    },
    {
     "name": "stdout",
     "output_type": "stream",
     "text": [
      "\n",
      "Epoch 7 Summary: Train AUC: 0.7563 | Val AUC: 0.8586\n",
      "--> Val AUC improved from 0.8267 to 0.8586. Saving model...\n"
     ]
    },
    {
     "name": "stderr",
     "output_type": "stream",
     "text": [
      "Epoch 8/20 (LR: 0.000073): 100%|███████████████████████████████████████████████████████████████████████████████████████████████████████████████████████████████████████████████████████| 136/136 [00:03<00:00, 34.45it/s, loss=0.388]\n"
     ]
    },
    {
     "name": "stdout",
     "output_type": "stream",
     "text": [
      "\n",
      "Epoch 8 Summary: Train AUC: 0.8350 | Val AUC: 0.8625\n",
      "--> Val AUC improved from 0.8586 to 0.8625. Saving model...\n"
     ]
    },
    {
     "name": "stderr",
     "output_type": "stream",
     "text": [
      "Epoch 9/20 (LR: 0.000066): 100%|███████████████████████████████████████████████████████████████████████████████████████████████████████████████████████████████████████████████████████| 136/136 [00:04<00:00, 29.32it/s, loss=0.352]\n"
     ]
    },
    {
     "name": "stdout",
     "output_type": "stream",
     "text": [
      "\n",
      "Epoch 9 Summary: Train AUC: 0.9478 | Val AUC: 0.8741\n",
      "--> Val AUC improved from 0.8625 to 0.8741. Saving model...\n"
     ]
    },
    {
     "name": "stderr",
     "output_type": "stream",
     "text": [
      "Epoch 10/20 (LR: 0.000058): 100%|██████████████████████████████████████████████████████████████████████████████████████████████████████████████████████████████████████████████████████| 136/136 [00:06<00:00, 21.32it/s, loss=0.139]\n"
     ]
    },
    {
     "name": "stdout",
     "output_type": "stream",
     "text": [
      "\n",
      "Epoch 10 Summary: Train AUC: 0.9617 | Val AUC: 0.9128\n",
      "--> Val AUC improved from 0.8741 to 0.9128. Saving model...\n"
     ]
    },
    {
     "name": "stderr",
     "output_type": "stream",
     "text": [
      "Epoch 11/20 (LR: 0.000051): 100%|█████████████████████████████████████████████████████████████████████████████████████████████████████████████████████████████████████████████████████| 136/136 [00:04<00:00, 27.69it/s, loss=0.0685]\n"
     ]
    },
    {
     "name": "stdout",
     "output_type": "stream",
     "text": [
      "\n",
      "Epoch 11 Summary: Train AUC: 0.9863 | Val AUC: 0.8968\n",
      "--> No improvement. Patience: 1/5. Best AUC: 0.9128\n"
     ]
    },
    {
     "name": "stderr",
     "output_type": "stream",
     "text": [
      "Epoch 12/20 (LR: 0.000043): 100%|█████████████████████████████████████████████████████████████████████████████████████████████████████████████████████████████████████████████████████| 136/136 [00:04<00:00, 28.65it/s, loss=0.0576]\n"
     ]
    },
    {
     "name": "stdout",
     "output_type": "stream",
     "text": [
      "\n",
      "Epoch 12 Summary: Train AUC: 0.9889 | Val AUC: 0.9256\n",
      "--> Val AUC improved from 0.9128 to 0.9256. Saving model...\n"
     ]
    },
    {
     "name": "stderr",
     "output_type": "stream",
     "text": [
      "Epoch 13/20 (LR: 0.000035): 100%|██████████████████████████████████████████████████████████████████████████████████████████████████████████████████████████████████████████████████████| 136/136 [00:04<00:00, 33.91it/s, loss=0.175]\n"
     ]
    },
    {
     "name": "stdout",
     "output_type": "stream",
     "text": [
      "\n",
      "Epoch 13 Summary: Train AUC: 0.9863 | Val AUC: 0.9142\n",
      "--> No improvement. Patience: 1/5. Best AUC: 0.9256\n"
     ]
    },
    {
     "name": "stderr",
     "output_type": "stream",
     "text": [
      "Epoch 14/20 (LR: 0.000028): 100%|██████████████████████████████████████████████████████████████████████████████████████████████████████████████████████████████████████████████████████| 136/136 [00:03<00:00, 36.60it/s, loss=0.208]\n"
     ]
    },
    {
     "name": "stdout",
     "output_type": "stream",
     "text": [
      "\n",
      "Epoch 14 Summary: Train AUC: 0.9949 | Val AUC: 0.9146\n",
      "--> No improvement. Patience: 2/5. Best AUC: 0.9256\n"
     ]
    },
    {
     "name": "stderr",
     "output_type": "stream",
     "text": [
      "Epoch 15/20 (LR: 0.000021): 100%|██████████████████████████████████████████████████████████████████████████████████████████████████████████████████████████████████████████████████████| 136/136 [00:03<00:00, 34.77it/s, loss=0.105]\n"
     ]
    },
    {
     "name": "stdout",
     "output_type": "stream",
     "text": [
      "\n",
      "Epoch 15 Summary: Train AUC: 0.9957 | Val AUC: 0.9167\n",
      "--> No improvement. Patience: 3/5. Best AUC: 0.9256\n"
     ]
    },
    {
     "name": "stderr",
     "output_type": "stream",
     "text": [
      "Epoch 16/20 (LR: 0.000015): 100%|███████████████████████████████████████████████████████████████████████████████████████████████████████████████████████████████████████████████████████| 136/136 [00:04<00:00, 32.67it/s, loss=1.19]\n"
     ]
    },
    {
     "name": "stdout",
     "output_type": "stream",
     "text": [
      "\n",
      "Epoch 16 Summary: Train AUC: 0.9961 | Val AUC: 0.9171\n",
      "--> No improvement. Patience: 4/5. Best AUC: 0.9256\n"
     ]
    },
    {
     "name": "stderr",
     "output_type": "stream",
     "text": [
      "Epoch 17/20 (LR: 0.000010): 100%|█████████████████████████████████████████████████████████████████████████████████████████████████████████████████████████████████████████████████████| 136/136 [00:06<00:00, 20.54it/s, loss=0.0181]\n"
     ]
    },
    {
     "name": "stdout",
     "output_type": "stream",
     "text": [
      "\n",
      "Epoch 17 Summary: Train AUC: 0.9961 | Val AUC: 0.9163\n",
      "--> No improvement. Patience: 5/5. Best AUC: 0.9256\n",
      "Early stopping triggered at epoch 17.\n",
      "\n",
      "========================= CROSS-VALIDATION FINISHED =========================\n",
      "Scores for each fold: ['0.8462', '0.6474', '0.9915', '0.9896', '0.9256']\n",
      "Mean CV AUC: 0.8801\n",
      "Std Dev CV AUC: 0.1279\n"
     ]
    }
   ],
   "source": [
    "with open('config.json', 'r') as f:\n",
    "    config = json.load(f)\n",
    "\n",
    "run_training_cv(X_train, y_train, config=config)"
   ]
  },
  {
   "cell_type": "markdown",
   "id": "9c5d4b73",
   "metadata": {},
   "source": [
    "# Inference"
   ]
  },
  {
   "cell_type": "code",
   "execution_count": 11,
   "id": "b8014ca9",
   "metadata": {},
   "outputs": [],
   "source": [
    "def infer_with_ensemble(X_test_data, config, n_splits=5):\n",
    "    print(\"=\"*25)\n",
    "    print(\"🚀 Starting Inference with Model Ensemble\")\n",
    "    print(\"=\"*25)\n",
    "    \n",
    "    class Configs:\n",
    "        def __init__(self, config_dict):\n",
    "            for key, value in config_dict.items():\n",
    "                setattr(self, key, value)\n",
    "    configs = Configs(config)\n",
    "    \n",
    "    dummy_labels = np.zeros(len(X_test_data))\n",
    "    test_dataset = ExoDataset(X_test_data, dummy_labels)\n",
    "    test_loader = DataLoader(test_dataset, batch_size=config['batch_size'] * 2, shuffle=False, num_workers=config['num_workers'])\n",
    "    \n",
    "    all_fold_preds = []\n",
    "\n",
    "    for fold_num in range(1, n_splits + 1):\n",
    "        print(f\"\\n---> Inferring with model from FOLD {fold_num}...\")\n",
    "        \n",
    "        model = Model(configs).cuda()\n",
    "        model_path = f\"{config['save_ckpt_path']}/best_model_fold_{fold_num}.pth\"\n",
    "        \n",
    "        try:\n",
    "            model.load_state_dict(torch.load(model_path))\n",
    "        except FileNotFoundError:\n",
    "            print(f\"❌ ERROR: Model file not found at {model_path}. Skipping this fold.\")\n",
    "            continue\n",
    "        \n",
    "        model.eval()\n",
    "        \n",
    "        fold_preds = []\n",
    "        with torch.no_grad():\n",
    "            for batch in tqdm(test_loader, desc=f\"Predicting Fold {fold_num}\"):\n",
    "                input_x, _ = batch\n",
    "                input_x = input_x.cuda()\n",
    "\n",
    "                with autocast(\"cuda\"):\n",
    "                    output_logits = model(input_x)\n",
    "                \n",
    "                prediction_probs = torch.sigmoid(output_logits)\n",
    "                fold_preds.append(prediction_probs.cpu().numpy())\n",
    "\n",
    "        all_fold_preds.append(np.concatenate(fold_preds))\n",
    "\n",
    "    if not all_fold_preds:\n",
    "        print(\"❌ ERROR: No models were loaded. Inference failed.\")\n",
    "        return None\n",
    "\n",
    "    print(\"\\n✅ All folds processed. Averaging predictions...\")\n",
    "    final_predictions = np.mean(np.stack(all_fold_preds, axis=0), axis=0).flatten()\n",
    "    \n",
    "    return final_predictions"
   ]
  },
  {
   "cell_type": "code",
   "execution_count": 12,
   "id": "9233a3c7",
   "metadata": {},
   "outputs": [
    {
     "name": "stdout",
     "output_type": "stream",
     "text": [
      "=========================\n",
      "🚀 Starting Inference with Model Ensemble\n",
      "=========================\n",
      "\n",
      "---> Inferring with model from FOLD 1...\n"
     ]
    },
    {
     "name": "stderr",
     "output_type": "stream",
     "text": [
      "Predicting Fold 1: 100%|█████████████████████████████████████████████████████████████████████████████████████████████████████████████████████████████████████████████████████████████████████████████| 10/10 [00:00<00:00, 35.45it/s]\n"
     ]
    },
    {
     "name": "stdout",
     "output_type": "stream",
     "text": [
      "\n",
      "---> Inferring with model from FOLD 2...\n"
     ]
    },
    {
     "name": "stderr",
     "output_type": "stream",
     "text": [
      "Predicting Fold 2: 100%|█████████████████████████████████████████████████████████████████████████████████████████████████████████████████████████████████████████████████████████████████████████████| 10/10 [00:00<00:00, 38.13it/s]\n"
     ]
    },
    {
     "name": "stdout",
     "output_type": "stream",
     "text": [
      "\n",
      "---> Inferring with model from FOLD 3...\n"
     ]
    },
    {
     "name": "stderr",
     "output_type": "stream",
     "text": [
      "Predicting Fold 3: 100%|█████████████████████████████████████████████████████████████████████████████████████████████████████████████████████████████████████████████████████████████████████████████| 10/10 [00:00<00:00, 39.67it/s]\n"
     ]
    },
    {
     "name": "stdout",
     "output_type": "stream",
     "text": [
      "\n",
      "---> Inferring with model from FOLD 4...\n"
     ]
    },
    {
     "name": "stderr",
     "output_type": "stream",
     "text": [
      "Predicting Fold 4: 100%|█████████████████████████████████████████████████████████████████████████████████████████████████████████████████████████████████████████████████████████████████████████████| 10/10 [00:00<00:00, 41.21it/s]\n"
     ]
    },
    {
     "name": "stdout",
     "output_type": "stream",
     "text": [
      "\n",
      "---> Inferring with model from FOLD 5...\n"
     ]
    },
    {
     "name": "stderr",
     "output_type": "stream",
     "text": [
      "Predicting Fold 5: 100%|█████████████████████████████████████████████████████████████████████████████████████████████████████████████████████████████████████████████████████████████████████████████| 10/10 [00:00<00:00, 39.67it/s]"
     ]
    },
    {
     "name": "stdout",
     "output_type": "stream",
     "text": [
      "\n",
      "✅ All folds processed. Averaging predictions...\n"
     ]
    },
    {
     "name": "stderr",
     "output_type": "stream",
     "text": [
      "\n"
     ]
    }
   ],
   "source": [
    "ensemble_predictions = infer_with_ensemble(X_test, config, n_splits=5)"
   ]
  },
  {
   "cell_type": "markdown",
   "id": "1a10fb2f",
   "metadata": {},
   "source": [
    "# Comprehensive Performance Report"
   ]
  },
  {
   "cell_type": "code",
   "execution_count": 13,
   "id": "ed48054b",
   "metadata": {},
   "outputs": [],
   "source": [
    "from sklearn.metrics import classification_report, confusion_matrix, precision_recall_curve, f1_score, accuracy_score"
   ]
  },
  {
   "cell_type": "code",
   "execution_count": 14,
   "id": "98f5e3ef",
   "metadata": {},
   "outputs": [],
   "source": [
    "def generate_comprehensive_report(y_true, y_pred_proba):\n",
    "    print(\"\\n\\n\" + \"=\"*25 + \" COMPREHENSIVE CLASSIFICATION REPORT \" + \"=\"*25)\n",
    "\n",
    "    auc_score = roc_auc_score(y_true, y_pred_proba)\n",
    "    print(f\"\\n🎯 ROC AUC Score (Threshold-Independent): {auc_score:.4f}\\n\")\n",
    "    print(\"-\" * 80)\n",
    "\n",
    "    print(f\"📊 Analysis for Standard Threshold = 0.5\")\n",
    "    y_pred_05 = (y_pred_proba >= 0.5).astype(int)\n",
    "    \n",
    "    print(\"\\nClassification Report (Threshold = 0.5):\")\n",
    "    print(classification_report(y_true, y_pred_05, target_names=['No Exo (0)', 'Exo (1)']))\n",
    "    \n",
    "    cm_05 = confusion_matrix(y_true, y_pred_05)\n",
    "    \n",
    "    precisions, recalls, thresholds = precision_recall_curve(y_true, y_pred_proba)\n",
    "    f1_scores = np.divide(2 * precisions * recalls, precisions + recalls, out=np.zeros_like(precisions), where=(precisions + recalls) != 0)\n",
    "    \n",
    "    optimal_idx = np.argmax(f1_scores)\n",
    "    optimal_threshold = thresholds[optimal_idx]\n",
    "    max_f1 = f1_scores[optimal_idx]\n",
    "    \n",
    "    print(\"-\" * 80)\n",
    "    \n",
    "    auc_score = roc_auc_score(y_true, y_pred_05)\n",
    "    print(f\"\\n🎯 ROC AUC Score (Threshold-05): {auc_score:.4f}\\n\")\n",
    "    print(f\"\\n🎯 Accuracy (Threshold-05): {accuracy_score(y_true, y_pred_05):.4f}\\n\")\n",
    "    \n",
    "    print(\"-\" * 80)\n",
    "\n",
    "    print(f\"📈 Analysis for Optimal Threshold\")\n",
    "    print(f\"   Optimal Threshold found at: {optimal_threshold:.4f} (which maximizes F1-Score)\")\n",
    "    print(f\"   Maximum F1-Score for class 'Exo': {max_f1:.4f}\")\n",
    "    \n",
    "    y_pred_opt = (y_pred_proba >= optimal_threshold).astype(int)\n",
    "    \n",
    "    print(\"\\nClassification Report (Optimal Threshold):\")\n",
    "    print(classification_report(y_true, y_pred_opt, target_names=['No Exo (0)', 'Exo (1)']))\n",
    "    \n",
    "    cm_opt = confusion_matrix(y_true, y_pred_opt)\n",
    "\n",
    "    print(\"-\" * 80)\n",
    "    \n",
    "    auc_score = roc_auc_score(y_true, y_pred_opt)\n",
    "    print(f\"\\n🎯 ROC AUC Score (Threshold-Optimal): {auc_score:.4f}\\n\")\n",
    "    print(f\"\\n🎯 Accuracy (Threshold-Optimal): {accuracy_score(y_true, y_pred_opt):.4f}\\n\")\n",
    "    \n",
    "    print(\"=\"*80)\n",
    "\n",
    "    fig, axes = plt.subplots(1, 2, figsize=(16, 6))\n",
    "    fig.suptitle('Confusion Matrices', fontsize=16)\n",
    "\n",
    "    sns.heatmap(cm_05, annot=True, fmt='d', cmap='Blues', ax=axes[0],\n",
    "                xticklabels=['No Exo', 'Exo'], yticklabels=['No Exo', 'Exo'])\n",
    "    axes[0].set_title('Threshold = 0.5')\n",
    "    axes[0].set_xlabel('Predicted Label')\n",
    "    axes[0].set_ylabel('True Label')\n",
    "\n",
    "    sns.heatmap(cm_opt, annot=True, fmt='d', cmap='Greens', ax=axes[1],\n",
    "                xticklabels=['No Exo', 'Exo'], yticklabels=['No Exo', 'Exo'])\n",
    "    axes[1].set_title(f'Optimal Threshold = {optimal_threshold:.4f}')\n",
    "    axes[1].set_xlabel('Predicted Label')\n",
    "    axes[1].set_ylabel('True Label')\n",
    "\n",
    "    plt.tight_layout(rect=[0, 0, 1, 0.96])\n",
    "    plt.show()"
   ]
  },
  {
   "cell_type": "code",
   "execution_count": 15,
   "id": "6cad505a",
   "metadata": {},
   "outputs": [
    {
     "name": "stdout",
     "output_type": "stream",
     "text": [
      "\n",
      "\n",
      "========================= COMPREHENSIVE CLASSIFICATION REPORT =========================\n",
      "\n",
      "🎯 ROC AUC Score (Threshold-Independent): 0.9938\n",
      "\n",
      "--------------------------------------------------------------------------------\n",
      "📊 Analysis for Standard Threshold = 0.5\n",
      "\n",
      "Classification Report (Threshold = 0.5):\n",
      "              precision    recall  f1-score   support\n",
      "\n",
      "  No Exo (0)       1.00      0.95      0.97       562\n",
      "     Exo (1)       0.12      1.00      0.22         4\n",
      "\n",
      "    accuracy                           0.95       566\n",
      "   macro avg       0.56      0.98      0.60       566\n",
      "weighted avg       0.99      0.95      0.97       566\n",
      "\n",
      "--------------------------------------------------------------------------------\n",
      "\n",
      "🎯 ROC AUC Score (Threshold-05): 0.9751\n",
      "\n",
      "\n",
      "🎯 Accuracy (Threshold-05): 0.9505\n",
      "\n",
      "--------------------------------------------------------------------------------\n",
      "📈 Analysis for Optimal Threshold\n",
      "   Optimal Threshold found at: 0.7183 (which maximizes F1-Score)\n",
      "   Maximum F1-Score for class 'Exo': 0.5714\n",
      "\n",
      "Classification Report (Optimal Threshold):\n",
      "              precision    recall  f1-score   support\n",
      "\n",
      "  No Exo (0)       1.00      0.99      0.99       562\n",
      "     Exo (1)       0.40      1.00      0.57         4\n",
      "\n",
      "    accuracy                           0.99       566\n",
      "   macro avg       0.70      0.99      0.78       566\n",
      "weighted avg       1.00      0.99      0.99       566\n",
      "\n",
      "--------------------------------------------------------------------------------\n",
      "\n",
      "🎯 ROC AUC Score (Threshold-Optimal): 0.9947\n",
      "\n",
      "\n",
      "🎯 Accuracy (Threshold-Optimal): 0.9894\n",
      "\n",
      "================================================================================\n"
     ]
    },
    {
     "data": {
      "image/png": "[encoded data removed]",
      "text/plain": [
       "<Figure size 1600x600 with 4 Axes>"
      ]
     },
     "metadata": {},
     "output_type": "display_data"
    }
   ],
   "source": [
    "results_df = pd.DataFrame({\n",
    "    'true_label': y_test,\n",
    "    'prediction': ensemble_predictions\n",
    "})\n",
    "\n",
    "results_df.dropna(inplace=True)\n",
    "\n",
    "generate_comprehensive_report(results_df['true_label'], results_df['prediction'])"
   ]
  },
  {
   "cell_type": "code",
   "execution_count": null,
   "id": "246acb29",
   "metadata": {},
   "outputs": [],
   "source": []
  }
 ],
 "metadata": {
  "kernelspec": {
   "display_name": "Python 3 (ipykernel)",
   "language": "python",
   "name": "python3"
  },
  "language_info": {
   "codemirror_mode": {
    "name": "ipython",
    "version": 3
   },
   "file_extension": ".py",
   "mimetype": "text/x-python",
   "name": "python",
   "nbconvert_exporter": "python",
   "pygments_lexer": "ipython3",
   "version": "3.12.11"
  }
 },
 "nbformat": 4,
 "nbformat_minor": 5
}
