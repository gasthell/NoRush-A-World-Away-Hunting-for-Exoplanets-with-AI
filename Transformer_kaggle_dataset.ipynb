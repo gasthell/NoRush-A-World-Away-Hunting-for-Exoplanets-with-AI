{
 "cells": [
  {
   "cell_type": "markdown",
   "id": "2f24808b",
   "metadata": {},
   "source": [
    "# Initial Setup and Library Imports"
   ]
  },
  {
   "cell_type": "code",
   "execution_count": 1,
   "id": "7dd67b11",
   "metadata": {},
   "outputs": [
    {
     "name": "stderr",
     "output_type": "stream",
     "text": [
      "/home/tora/miniconda3/envs/RWKV/lib/python3.12/site-packages/lightkurve/prf/__init__.py:7: UserWarning: Warning: the tpfmodel submodule is not available without oktopus installed, which requires a current version of autograd. See #1452 for details.\n",
      "  warnings.warn(\n"
     ]
    }
   ],
   "source": [
    "import numpy as np\n",
    "import pandas as pd\n",
    "\n",
    "import matplotlib.pyplot as plt\n",
    "import seaborn as sns\n",
    "\n",
    "from tqdm import tqdm\n",
    "\n",
    "import joblib\n",
    "from joblib import Parallel, delayed\n",
    "\n",
    "import os\n",
    "\n",
    "import warnings\n",
    "warnings.filterwarnings('ignore')"
   ]
  },
  {
   "cell_type": "markdown",
   "id": "f46af1ab",
   "metadata": {},
   "source": [
    "# Data Loading and Preparation"
   ]
  },
  {
   "cell_type": "code",
   "execution_count": 2,
   "id": "238c106c",
   "metadata": {},
   "outputs": [],
   "source": [
    "df_train = pd.read_csv('dataset/exoTrain.csv')\n",
    "df_test = pd.read_csv('dataset/exoTest.csv')\n",
    "\n",
    "df = pd.concat([df_train, df_test], ignore_index=True)"
   ]
  },
  {
   "cell_type": "code",
   "execution_count": 3,
   "id": "eefd815c",
   "metadata": {},
   "outputs": [
    {
     "name": "stdout",
     "output_type": "stream",
     "text": [
      "--- Data Loading and Preparation Complete ---\n",
      "Total number of samples: 5657\n",
      "Shape of the feature data (X): (5657, 1, 3197)\n",
      "Shape of the label data (y): (5657,)\n",
      "Type of y_prepared: <class 'numpy.ndarray'>\n"
     ]
    }
   ],
   "source": [
    "df_train = pd.read_csv('dataset/exoTrain.csv')\n",
    "df_test = pd.read_csv('dataset/exoTest.csv')\n",
    "df = pd.concat([df_train, df_test], ignore_index=True)\n",
    "\n",
    "X = df.drop('LABEL', axis=1)\n",
    "y = df['LABEL']\n",
    "y_prepared = (y - 1).values\n",
    "\n",
    "X_prepared = X.values\n",
    "X_prepared = np.expand_dims(X_prepared, axis=1)\n",
    "\n",
    "print(\"--- Data Loading and Preparation Complete ---\")\n",
    "print(f\"Total number of samples: {len(df)}\")\n",
    "print(f\"Shape of the feature data (X): {X_prepared.shape}\")\n",
    "print(f\"Shape of the label data (y): {y_prepared.shape}\")\n",
    "print(f\"Type of y_prepared: {type(y_prepared)}\")"
   ]
  },
  {
   "cell_type": "markdown",
   "id": "594ee8b8",
   "metadata": {},
   "source": [
    "# Exploratory Data Analysis: Target Variable Distribution"
   ]
  },
  {
   "cell_type": "code",
   "execution_count": 4,
   "id": "aa47456f",
   "metadata": {},
   "outputs": [
    {
     "name": "stdout",
     "output_type": "stream",
     "text": [
      "--- Target Variable Distribution ---\n",
      "Counts:\n",
      "LABEL\n",
      "1    5615\n",
      "2      42\n",
      "Name: count, dtype: int64\n",
      "\n",
      "Percentages:\n",
      "LABEL\n",
      "1    99.257557\n",
      "2     0.742443\n",
      "Name: proportion, dtype: float64\n"
     ]
    },
    {
     "data": {
      "image/png": "[encoded data removed]",
      "text/plain": [
       "<Figure size 800x600 with 1 Axes>"
      ]
     },
     "metadata": {},
     "output_type": "display_data"
    }
   ],
   "source": [
    "target_counts = y.value_counts()\n",
    "target_percentages = y.value_counts(normalize=True) * 100\n",
    "\n",
    "print(\"--- Target Variable Distribution ---\")\n",
    "print(\"Counts:\")\n",
    "print(target_counts)\n",
    "print(\"\\nPercentages:\")\n",
    "print(target_percentages)\n",
    "\n",
    "sns.set_style(\"whitegrid\")\n",
    "plt.figure(figsize=(8, 6))\n",
    "ax = sns.countplot(x=y_prepared)\n",
    "\n",
    "for p in ax.patches:\n",
    "    percentage = f'{100 * p.get_height() / len(y_prepared):.2f}%\\n({p.get_height()})'\n",
    "    x = p.get_x() + p.get_width() / 2\n",
    "    y = p.get_height()\n",
    "    ax.annotate(percentage, (x, y), ha='center', va='center', xytext=(0, 5), textcoords='offset points')\n",
    "\n",
    "plt.title('Distribution of Target Variable')\n",
    "plt.ylabel('Number of Time Series')\n",
    "plt.xticks([0, 1], ['False', 'True'])\n",
    "plt.show()"
   ]
  },
  {
   "cell_type": "markdown",
   "id": "aa7df4b0",
   "metadata": {},
   "source": [
    "# Importing Deep Learning Libraries and Modules"
   ]
  },
  {
   "cell_type": "code",
   "execution_count": 5,
   "id": "eeba7db2",
   "metadata": {},
   "outputs": [
    {
     "name": "stderr",
     "output_type": "stream",
     "text": [
      "2025-10-05 09:52:32.776338: E external/local_xla/xla/stream_executor/cuda/cuda_fft.cc:467] Unable to register cuFFT factory: Attempting to register factory for plugin cuFFT when one has already been registered\n",
      "WARNING: All log messages before absl::InitializeLog() is called are written to STDERR\n",
      "E0000 00:00:1759639952.819082   28602 cuda_dnn.cc:8579] Unable to register cuDNN factory: Attempting to register factory for plugin cuDNN when one has already been registered\n",
      "E0000 00:00:1759639952.832613   28602 cuda_blas.cc:1407] Unable to register cuBLAS factory: Attempting to register factory for plugin cuBLAS when one has already been registered\n",
      "W0000 00:00:1759639952.917077   28602 computation_placer.cc:177] computation placer already registered. Please check linkage and avoid linking the same target more than once.\n",
      "W0000 00:00:1759639952.917154   28602 computation_placer.cc:177] computation placer already registered. Please check linkage and avoid linking the same target more than once.\n",
      "W0000 00:00:1759639952.917157   28602 computation_placer.cc:177] computation placer already registered. Please check linkage and avoid linking the same target more than once.\n",
      "W0000 00:00:1759639952.917163   28602 computation_placer.cc:177] computation placer already registered. Please check linkage and avoid linking the same target more than once.\n",
      "2025-10-05 09:52:32.941958: I tensorflow/core/platform/cpu_feature_guard.cc:210] This TensorFlow binary is optimized to use available CPU instructions in performance-critical operations.\n",
      "To enable the following instructions: AVX2 FMA, in other operations, rebuild TensorFlow with the appropriate compiler flags.\n"
     ]
    }
   ],
   "source": [
    "import sklearn\n",
    "import numpy as np\n",
    "import pandas as pd\n",
    "import torch\n",
    "from torch import nn\n",
    "from models import TimerBackbone\n",
    "\n",
    "from torch.amp import GradScaler, autocast \n",
    "\n",
    "import json\n",
    "from tqdm import tqdm\n",
    "import numpy as np\n",
    "from sklearn.metrics import mean_squared_error, mean_absolute_error, r2_score, roc_auc_score\n",
    "from sklearn.model_selection import train_test_split\n",
    "from torch.optim.lr_scheduler import ReduceLROnPlateau, CosineAnnealingLR\n",
    "\n",
    "import joblib\n",
    "from joblib import Parallel, delayed\n",
    "\n",
    "import matplotlib.pyplot as plt\n",
    "import seaborn as sns\n",
    "\n",
    "from torch.utils.data import Dataset, DataLoader, Sampler \n",
    "from scipy.stats import entropy as spectral_entropy\n",
    "import pyentrp\n",
    "\n",
    "import random\n",
    "\n",
    "from sklearn.model_selection import StratifiedKFold\n",
    "import gc "
   ]
  },
  {
   "cell_type": "markdown",
   "id": "51d4c58b",
   "metadata": {},
   "source": [
    "# Dataset preparation"
   ]
  },
  {
   "cell_type": "code",
   "execution_count": 6,
   "id": "88772710",
   "metadata": {},
   "outputs": [],
   "source": [
    "X_train, X_test, y_train, y_test = train_test_split(\n",
    "    X_prepared, y_prepared, test_size=0.1, random_state=42, stratify=y_prepared\n",
    ")"
   ]
  },
  {
   "cell_type": "code",
   "execution_count": 7,
   "id": "ae7002b1",
   "metadata": {},
   "outputs": [],
   "source": [
    "class ExoDataset(Dataset):\n",
    "    def __init__(self, features, labels):\n",
    "        self.features = torch.tensor(features, dtype=torch.float32)\n",
    "        self.labels = torch.tensor(labels, dtype=torch.float32)\n",
    "\n",
    "    def __len__(self):\n",
    "        return len(self.features)\n",
    "\n",
    "    def __getitem__(self, idx):\n",
    "        return self.features[idx], self.labels[idx]"
   ]
  },
  {
   "cell_type": "markdown",
   "id": "7e379b32",
   "metadata": {},
   "source": [
    "# Model Architecture"
   ]
  },
  {
   "cell_type": "code",
   "execution_count": null,
   "id": "b110482f",
   "metadata": {},
   "outputs": [],
   "source": [
    "class Model(nn.Module):\n",
    "    def __init__(self, configs):\n",
    "        super().__init__()\n",
    "        self.task_name = configs.task_name\n",
    "        self.backbone = TimerBackbone.Model(configs)\n",
    "\n",
    "        self.classification_head = nn.Sequential(\n",
    "            nn.AdaptiveAvgPool1d(1),\n",
    "            nn.Flatten(),\n",
    "            nn.Linear(configs.d_model, 1)\n",
    "        )\n",
    "\n",
    "    def classification(self, x_enc):\n",
    "        B, M, L = x_enc.shape\n",
    "\n",
    "        means = x_enc.mean(2, keepdim=True).detach()\n",
    "        x_enc = x_enc - means\n",
    "        stdev = torch.sqrt(torch.var(x_enc, dim=2, keepdim=True, unbiased=False) + 1e-5).detach()\n",
    "        x_enc /= stdev\n",
    "\n",
    "        enc_out, n_vars = self.backbone.patch_embedding(x_enc)\n",
    "        enc_out, attns = self.backbone.decoder(enc_out)\n",
    "        \n",
    "        output = enc_out.reshape(B, M, -1, self.backbone.d_model)\n",
    "        output = output.mean(dim=1)\n",
    "        output = output.permute(0, 2, 1)\n",
    "\n",
    "        output = self.classification_head(output)\n",
    "\n",
    "        return output\n",
    "\n",
    "    def forward(self, x_enc, x_mark_enc=None, x_dec=None, x_mark_dec=None, mask=None):\n",
    "        if self.task_name == 'classification':\n",
    "            dec_out = self.classification(x_enc)\n",
    "            return dec_out\n",
    "\n",
    "        raise NotImplementedError"
   ]
  },
  {
   "cell_type": "markdown",
   "id": "b7cfff3c",
   "metadata": {},
   "source": [
    "# Training"
   ]
  },
  {
   "cell_type": "code",
   "execution_count": 9,
   "id": "9e7c6132",
   "metadata": {},
   "outputs": [],
   "source": [
    "def train_fold(fold_num, X_train_fold, y_train_fold, X_val_fold, y_val_fold, config):\n",
    "    print(f\"\\n{'='*25} FOLD {fold_num+1} {'='*25}\")\n",
    "    \n",
    "    class Configs:\n",
    "        def __init__(self, config_dict):\n",
    "            for key, value in config_dict.items():\n",
    "                setattr(self, key, value)\n",
    "\n",
    "    configs = Configs(config)\n",
    "    \n",
    "    model = Model(configs).cuda()\n",
    "    train_dataset = ExoDataset(X_train_fold, y_train_fold)\n",
    "    val_dataset = ExoDataset(X_val_fold, y_val_fold)\n",
    "    \n",
    "    train_loader = DataLoader(train_dataset, batch_size=config['batch_size'], shuffle=True, num_workers=config['num_workers'], pin_memory=True)\n",
    "    val_loader = DataLoader(val_dataset, batch_size=config['batch_size'], shuffle=False, num_workers=config['num_workers'], pin_memory=True)\n",
    "    \n",
    "    print(f\"Data for fold {fold_num+1} loaded: {len(train_dataset)} train, {len(val_dataset)} val samples.\")\n",
    "    \n",
    "    optimizer = torch.optim.AdamW(model.parameters(), lr=1e-4, weight_decay=1e-5)\n",
    "    scheduler = CosineAnnealingLR(optimizer, T_max=config['epoch'], eta_min=1e-6)\n",
    "    \n",
    "    counts = pd.Series(y_train_fold).value_counts()\n",
    "    pos_weight_value = counts.get(0, 1) / counts.get(1, 1)\n",
    "    pos_weight_tensor = torch.tensor([pos_weight_value], dtype=torch.float32).cuda()\n",
    "    loss_function = torch.nn.BCEWithLogitsLoss(pos_weight=pos_weight_tensor)\n",
    "    \n",
    "    scaler = GradScaler()\n",
    "    \n",
    "    best_model_path = f\"{config['save_ckpt_path']}/best_model_fold_{fold_num+1}.pth\"\n",
    "    best_val_auc = -1\n",
    "    patience = 5\n",
    "    patience_counter = 0\n",
    "\n",
    "    for epoch in range(config['epoch']):\n",
    "        model.train()\n",
    "        total_loss = 0\n",
    "        all_preds, all_targets = [], []\n",
    "        current_lr = optimizer.param_groups[0]['lr']\n",
    "        \n",
    "        progress_bar = tqdm(train_loader, desc=f'Epoch {epoch+1}/{config[\"epoch\"]} (LR: {current_lr:.6f})')\n",
    "\n",
    "        for batch in progress_bar:\n",
    "            input_x, gt = batch\n",
    "            input_x = input_x.cuda()\n",
    "            gt = gt.cuda().float().unsqueeze(1)\n",
    "\n",
    "            with autocast(\"cuda\"):\n",
    "                output = model(input_x)\n",
    "                loss = loss_function(output, gt)\n",
    "\n",
    "            optimizer.zero_grad()\n",
    "            scaler.scale(loss).backward()\n",
    "            scaler.step(optimizer)\n",
    "            scaler.update()\n",
    "\n",
    "            total_loss += loss.item()\n",
    "            all_preds.extend(torch.sigmoid(output).cpu().detach().numpy())\n",
    "            all_targets.extend(gt.cpu().detach().numpy())\n",
    "            progress_bar.set_postfix(loss=loss.item())\n",
    "\n",
    "        scheduler.step()\n",
    "        train_auc = roc_auc_score(all_targets, all_preds)\n",
    "        \n",
    "        model.eval()\n",
    "        val_preds, val_targets = [], []\n",
    "        with torch.no_grad():\n",
    "            for batch in val_loader:\n",
    "                input_x, gt = batch\n",
    "                input_x = input_x.cuda()\n",
    "                gt = gt.cuda().float().unsqueeze(1)\n",
    "                with autocast(\"cuda\"):\n",
    "                    output = model(input_x)\n",
    "                val_preds.extend(torch.sigmoid(output).cpu().numpy())\n",
    "                val_targets.extend(gt.cpu().numpy())\n",
    "\n",
    "        val_auc = roc_auc_score(val_targets, val_preds)\n",
    "        print(f\"\\nEpoch {epoch+1} Summary: Train AUC: {train_auc:.4f} | Val AUC: {val_auc:.4f}\")\n",
    "\n",
    "        if val_auc > best_val_auc:\n",
    "            print(f\"--> Val AUC improved from {best_val_auc:.4f} to {val_auc:.4f}. Saving model...\")\n",
    "            best_val_auc = val_auc\n",
    "            torch.save(model.state_dict(), best_model_path)\n",
    "            patience_counter = 0\n",
    "        else:\n",
    "            patience_counter += 1\n",
    "            print(f\"--> No improvement. Patience: {patience_counter}/{patience}. Best AUC: {best_val_auc:.4f}\")\n",
    "\n",
    "        if patience_counter >= patience:\n",
    "            print(f\"Early stopping triggered at epoch {epoch+1}.\")\n",
    "            break\n",
    "            \n",
    "    del model, train_loader, val_loader, train_dataset, val_dataset\n",
    "    gc.collect()\n",
    "    torch.cuda.empty_cache()\n",
    "\n",
    "    return best_val_auc\n",
    "\n",
    "def run_training_cv(X_data, y_data, config):\n",
    "    if not os.path.exists(config['save_ckpt_path']):\n",
    "        os.makedirs(config['save_ckpt_path'])\n",
    "\n",
    "    N_SPLITS = 5\n",
    "    skf = StratifiedKFold(n_splits=N_SPLITS, shuffle=True, random_state=42)\n",
    "    oof_scores = []\n",
    "\n",
    "    for fold, (train_idx, val_idx) in enumerate(skf.split(X_data, y_data)):\n",
    "        \n",
    "        # Split the data using the indices from StratifiedKFold\n",
    "        X_train_fold, X_val_fold = X_data[train_idx], X_data[val_idx]\n",
    "        y_train_fold, y_val_fold = y_data[train_idx], y_data[val_idx]\n",
    "        \n",
    "        best_fold_auc = train_fold(\n",
    "            fold_num=fold,\n",
    "            X_train_fold=X_train_fold, y_train_fold=y_train_fold,\n",
    "            X_val_fold=X_val_fold, y_val_fold=y_val_fold,\n",
    "            config=config\n",
    "        )\n",
    "        oof_scores.append(best_fold_auc)\n",
    "\n",
    "    print(f\"\\n{'='*25} CROSS-VALIDATION FINISHED {'='*25}\")\n",
    "    print(f\"Scores for each fold: {[f'{score:.4f}' for score in oof_scores]}\")\n",
    "    print(f\"Mean CV AUC: {np.mean(oof_scores):.4f}\")\n",
    "    print(f\"Std Dev CV AUC: {np.std(oof_scores):.4f}\")"
   ]
  },
  {
   "cell_type": "code",
   "execution_count": 10,
   "id": "84724bb3",
   "metadata": {},
   "outputs": [
    {
     "name": "stdout",
     "output_type": "stream",
     "text": [
      "\n",
      "========================= FOLD 1 =========================\n",
      "Data for fold 1 loaded: 4072 train, 1019 val samples.\n"
     ]
    },
    {
     "name": "stderr",
     "output_type": "stream",
     "text": [
      "Epoch 1/20 (LR: 0.000100): 100%|███████████████████████████████████████████████████████████████████████████████████████████████████████████████████████████████████████████████████████████████████████| 136/136 [00:23<00:00,  5.88it/s, loss=1.05]\n"
     ]
    },
    {
     "name": "stdout",
     "output_type": "stream",
     "text": [
      "\n",
      "Epoch 1 Summary: Train AUC: 0.4665 | Val AUC: 0.5000\n",
      "--> Val AUC improved from -1.0000 to 0.5000. Saving model...\n"
     ]
    },
    {
     "name": "stderr",
     "output_type": "stream",
     "text": [
      "Epoch 2/20 (LR: 0.000099): 100%|███████████████████████████████████████████████████████████████████████████████████████████████████████████████████████████████████████████████████████████████████████| 136/136 [00:21<00:00,  6.41it/s, loss=1.31]\n"
     ]
    },
    {
     "name": "stdout",
     "output_type": "stream",
     "text": [
      "\n",
      "Epoch 2 Summary: Train AUC: 0.5252 | Val AUC: 0.5079\n",
      "--> Val AUC improved from 0.5000 to 0.5079. Saving model...\n"
     ]
    },
    {
     "name": "stderr",
     "output_type": "stream",
     "text": [
      "Epoch 3/20 (LR: 0.000098): 100%|███████████████████████████████████████████████████████████████████████████████████████████████████████████████████████████████████████████████████████████████████████| 136/136 [00:21<00:00,  6.41it/s, loss=4.11]\n"
     ]
    },
    {
     "name": "stdout",
     "output_type": "stream",
     "text": [
      "\n",
      "Epoch 3 Summary: Train AUC: 0.5135 | Val AUC: 0.5000\n",
      "--> No improvement. Patience: 1/5. Best AUC: 0.5079\n"
     ]
    },
    {
     "name": "stderr",
     "output_type": "stream",
     "text": [
      "Epoch 4/20 (LR: 0.000095): 100%|██████████████████████████████████████████████████████████████████████████████████████████████████████████████████████████████████████████████████████████████████████| 136/136 [00:19<00:00,  6.88it/s, loss=0.506]\n"
     ]
    },
    {
     "name": "stdout",
     "output_type": "stream",
     "text": [
      "\n",
      "Epoch 4 Summary: Train AUC: 0.4916 | Val AUC: 0.5000\n",
      "--> No improvement. Patience: 2/5. Best AUC: 0.5079\n"
     ]
    },
    {
     "name": "stderr",
     "output_type": "stream",
     "text": [
      "Epoch 5/20 (LR: 0.000091): 100%|███████████████████████████████████████████████████████████████████████████████████████████████████████████████████████████████████████████████████████████████████████| 136/136 [00:22<00:00,  6.11it/s, loss=5.84]\n"
     ]
    },
    {
     "name": "stdout",
     "output_type": "stream",
     "text": [
      "\n",
      "Epoch 5 Summary: Train AUC: 0.4844 | Val AUC: 0.5000\n",
      "--> No improvement. Patience: 3/5. Best AUC: 0.5079\n"
     ]
    },
    {
     "name": "stderr",
     "output_type": "stream",
     "text": [
      "Epoch 6/20 (LR: 0.000086): 100%|██████████████████████████████████████████████████████████████████████████████████████████████████████████████████████████████████████████████████████████████████████| 136/136 [00:22<00:00,  6.04it/s, loss=0.577]\n"
     ]
    },
    {
     "name": "stdout",
     "output_type": "stream",
     "text": [
      "\n",
      "Epoch 6 Summary: Train AUC: 0.4628 | Val AUC: 0.5000\n",
      "--> No improvement. Patience: 4/5. Best AUC: 0.5079\n"
     ]
    },
    {
     "name": "stderr",
     "output_type": "stream",
     "text": [
      "Epoch 7/20 (LR: 0.000080): 100%|███████████████████████████████████████████████████████████████████████████████████████████████████████████████████████████████████████████████████████████████████████| 136/136 [00:19<00:00,  6.91it/s, loss=1.13]\n"
     ]
    },
    {
     "name": "stdout",
     "output_type": "stream",
     "text": [
      "\n",
      "Epoch 7 Summary: Train AUC: 0.5309 | Val AUC: 0.5000\n",
      "--> No improvement. Patience: 5/5. Best AUC: 0.5079\n",
      "Early stopping triggered at epoch 7.\n",
      "\n",
      "========================= FOLD 2 =========================\n",
      "Data for fold 2 loaded: 4073 train, 1018 val samples.\n"
     ]
    },
    {
     "name": "stderr",
     "output_type": "stream",
     "text": [
      "Epoch 1/20 (LR: 0.000100): 100%|██████████████████████████████████████████████████████████████████████████████████████████████████████████████████████████████████████████████████████████████████████| 136/136 [00:21<00:00,  6.42it/s, loss=0.497]\n"
     ]
    },
    {
     "name": "stdout",
     "output_type": "stream",
     "text": [
      "\n",
      "Epoch 1 Summary: Train AUC: 0.3846 | Val AUC: 0.5114\n",
      "--> Val AUC improved from -1.0000 to 0.5114. Saving model...\n"
     ]
    },
    {
     "name": "stderr",
     "output_type": "stream",
     "text": [
      "Epoch 2/20 (LR: 0.000099): 100%|██████████████████████████████████████████████████████████████████████████████████████████████████████████████████████████████████████████████████████████████████████| 136/136 [00:20<00:00,  6.48it/s, loss=0.571]\n"
     ]
    },
    {
     "name": "stdout",
     "output_type": "stream",
     "text": [
      "\n",
      "Epoch 2 Summary: Train AUC: 0.3899 | Val AUC: 0.5113\n",
      "--> No improvement. Patience: 1/5. Best AUC: 0.5114\n"
     ]
    },
    {
     "name": "stderr",
     "output_type": "stream",
     "text": [
      "Epoch 3/20 (LR: 0.000098): 100%|███████████████████████████████████████████████████████████████████████████████████████████████████████████████████████████████████████████████████████████████████████| 136/136 [00:20<00:00,  6.51it/s, loss=1.01]\n"
     ]
    },
    {
     "name": "stdout",
     "output_type": "stream",
     "text": [
      "\n",
      "Epoch 3 Summary: Train AUC: 0.4757 | Val AUC: 0.4020\n",
      "--> No improvement. Patience: 2/5. Best AUC: 0.5114\n"
     ]
    },
    {
     "name": "stderr",
     "output_type": "stream",
     "text": [
      "Epoch 4/20 (LR: 0.000095): 100%|██████████████████████████████████████████████████████████████████████████████████████████████████████████████████████████████████████████████████████████████████████| 136/136 [00:22<00:00,  6.06it/s, loss=0.983]\n"
     ]
    },
    {
     "name": "stdout",
     "output_type": "stream",
     "text": [
      "\n",
      "Epoch 4 Summary: Train AUC: 0.4860 | Val AUC: 0.5000\n",
      "--> No improvement. Patience: 3/5. Best AUC: 0.5114\n"
     ]
    },
    {
     "name": "stderr",
     "output_type": "stream",
     "text": [
      "Epoch 5/20 (LR: 0.000091): 100%|██████████████████████████████████████████████████████████████████████████████████████████████████████████████████████████████████████████████████████████████████████| 136/136 [00:21<00:00,  6.27it/s, loss=0.769]\n"
     ]
    },
    {
     "name": "stdout",
     "output_type": "stream",
     "text": [
      "\n",
      "Epoch 5 Summary: Train AUC: 0.5220 | Val AUC: 0.5000\n",
      "--> No improvement. Patience: 4/5. Best AUC: 0.5114\n"
     ]
    },
    {
     "name": "stderr",
     "output_type": "stream",
     "text": [
      "Epoch 6/20 (LR: 0.000086): 100%|██████████████████████████████████████████████████████████████████████████████████████████████████████████████████████████████████████████████████████████████████████| 136/136 [00:18<00:00,  7.25it/s, loss=0.761]\n"
     ]
    },
    {
     "name": "stdout",
     "output_type": "stream",
     "text": [
      "\n",
      "Epoch 6 Summary: Train AUC: 0.4512 | Val AUC: 0.5000\n",
      "--> No improvement. Patience: 5/5. Best AUC: 0.5114\n",
      "Early stopping triggered at epoch 6.\n",
      "\n",
      "========================= FOLD 3 =========================\n",
      "Data for fold 3 loaded: 4073 train, 1018 val samples.\n"
     ]
    },
    {
     "name": "stderr",
     "output_type": "stream",
     "text": [
      "Epoch 1/20 (LR: 0.000100): 100%|████████████████████████████████████████████████████████████████████████████████████████████████████████████████████████████████████████████████████████████████████████| 136/136 [00:20<00:00,  6.56it/s, loss=4.1]\n"
     ]
    },
    {
     "name": "stdout",
     "output_type": "stream",
     "text": [
      "\n",
      "Epoch 1 Summary: Train AUC: 0.5526 | Val AUC: 0.5721\n",
      "--> Val AUC improved from -1.0000 to 0.5721. Saving model...\n"
     ]
    },
    {
     "name": "stderr",
     "output_type": "stream",
     "text": [
      "Epoch 2/20 (LR: 0.000099): 100%|██████████████████████████████████████████████████████████████████████████████████████████████████████████████████████████████████████████████████████████████████████| 136/136 [00:21<00:00,  6.18it/s, loss=0.972]\n"
     ]
    },
    {
     "name": "stdout",
     "output_type": "stream",
     "text": [
      "\n",
      "Epoch 2 Summary: Train AUC: 0.4647 | Val AUC: 0.5000\n",
      "--> No improvement. Patience: 1/5. Best AUC: 0.5721\n"
     ]
    },
    {
     "name": "stderr",
     "output_type": "stream",
     "text": [
      "Epoch 3/20 (LR: 0.000098): 100%|██████████████████████████████████████████████████████████████████████████████████████████████████████████████████████████████████████████████████████████████████████| 136/136 [00:20<00:00,  6.55it/s, loss=0.643]\n"
     ]
    },
    {
     "name": "stdout",
     "output_type": "stream",
     "text": [
      "\n",
      "Epoch 3 Summary: Train AUC: 0.5644 | Val AUC: 0.4110\n",
      "--> No improvement. Patience: 2/5. Best AUC: 0.5721\n"
     ]
    },
    {
     "name": "stderr",
     "output_type": "stream",
     "text": [
      "Epoch 4/20 (LR: 0.000095): 100%|██████████████████████████████████████████████████████████████████████████████████████████████████████████████████████████████████████████████████████████████████████| 136/136 [00:19<00:00,  7.02it/s, loss=0.682]\n"
     ]
    },
    {
     "name": "stdout",
     "output_type": "stream",
     "text": [
      "\n",
      "Epoch 4 Summary: Train AUC: 0.4364 | Val AUC: 0.5000\n",
      "--> No improvement. Patience: 3/5. Best AUC: 0.5721\n"
     ]
    },
    {
     "name": "stderr",
     "output_type": "stream",
     "text": [
      "Epoch 5/20 (LR: 0.000091): 100%|███████████████████████████████████████████████████████████████████████████████████████████████████████████████████████████████████████████████████████████████████████| 136/136 [00:22<00:00,  6.09it/s, loss=0.54]\n"
     ]
    },
    {
     "name": "stdout",
     "output_type": "stream",
     "text": [
      "\n",
      "Epoch 5 Summary: Train AUC: 0.4491 | Val AUC: 0.5000\n",
      "--> No improvement. Patience: 4/5. Best AUC: 0.5721\n"
     ]
    },
    {
     "name": "stderr",
     "output_type": "stream",
     "text": [
      "Epoch 6/20 (LR: 0.000086): 100%|███████████████████████████████████████████████████████████████████████████████████████████████████████████████████████████████████████████████████████████████████████| 136/136 [00:21<00:00,  6.32it/s, loss=0.67]\n"
     ]
    },
    {
     "name": "stdout",
     "output_type": "stream",
     "text": [
      "\n",
      "Epoch 6 Summary: Train AUC: 0.5033 | Val AUC: 0.5000\n",
      "--> No improvement. Patience: 5/5. Best AUC: 0.5721\n",
      "Early stopping triggered at epoch 6.\n",
      "\n",
      "========================= FOLD 4 =========================\n",
      "Data for fold 4 loaded: 4073 train, 1018 val samples.\n"
     ]
    },
    {
     "name": "stderr",
     "output_type": "stream",
     "text": [
      "Epoch 1/20 (LR: 0.000100): 100%|██████████████████████████████████████████████████████████████████████████████████████████████████████████████████████████████████████████████████████████████████████| 136/136 [00:19<00:00,  7.02it/s, loss=0.691]\n"
     ]
    },
    {
     "name": "stdout",
     "output_type": "stream",
     "text": [
      "\n",
      "Epoch 1 Summary: Train AUC: 0.4358 | Val AUC: 0.5015\n",
      "--> Val AUC improved from -1.0000 to 0.5015. Saving model...\n"
     ]
    },
    {
     "name": "stderr",
     "output_type": "stream",
     "text": [
      "Epoch 2/20 (LR: 0.000099): 100%|███████████████████████████████████████████████████████████████████████████████████████████████████████████████████████████████████████████████████████████████████████| 136/136 [00:20<00:00,  6.57it/s, loss=0.83]\n"
     ]
    },
    {
     "name": "stdout",
     "output_type": "stream",
     "text": [
      "\n",
      "Epoch 2 Summary: Train AUC: 0.4962 | Val AUC: 0.5000\n",
      "--> No improvement. Patience: 1/5. Best AUC: 0.5015\n"
     ]
    },
    {
     "name": "stderr",
     "output_type": "stream",
     "text": [
      "Epoch 3/20 (LR: 0.000098): 100%|██████████████████████████████████████████████████████████████████████████████████████████████████████████████████████████████████████████████████████████████████████| 136/136 [00:20<00:00,  6.48it/s, loss=0.357]\n"
     ]
    },
    {
     "name": "stdout",
     "output_type": "stream",
     "text": [
      "\n",
      "Epoch 3 Summary: Train AUC: 0.4470 | Val AUC: 0.5000\n",
      "--> No improvement. Patience: 2/5. Best AUC: 0.5015\n"
     ]
    },
    {
     "name": "stderr",
     "output_type": "stream",
     "text": [
      "Epoch 4/20 (LR: 0.000095): 100%|██████████████████████████████████████████████████████████████████████████████████████████████████████████████████████████████████████████████████████████████████████| 136/136 [00:19<00:00,  6.92it/s, loss=0.598]\n"
     ]
    },
    {
     "name": "stdout",
     "output_type": "stream",
     "text": [
      "\n",
      "Epoch 4 Summary: Train AUC: 0.3837 | Val AUC: 0.5000\n",
      "--> No improvement. Patience: 3/5. Best AUC: 0.5015\n"
     ]
    },
    {
     "name": "stderr",
     "output_type": "stream",
     "text": [
      "Epoch 5/20 (LR: 0.000091): 100%|███████████████████████████████████████████████████████████████████████████████████████████████████████████████████████████████████████████████████████████████████████| 136/136 [00:21<00:00,  6.35it/s, loss=4.37]\n"
     ]
    },
    {
     "name": "stdout",
     "output_type": "stream",
     "text": [
      "\n",
      "Epoch 5 Summary: Train AUC: 0.4419 | Val AUC: 0.5000\n",
      "--> No improvement. Patience: 4/5. Best AUC: 0.5015\n"
     ]
    },
    {
     "name": "stderr",
     "output_type": "stream",
     "text": [
      "Epoch 6/20 (LR: 0.000086): 100%|██████████████████████████████████████████████████████████████████████████████████████████████████████████████████████████████████████████████████████████████████████| 136/136 [00:22<00:00,  6.15it/s, loss=0.933]\n"
     ]
    },
    {
     "name": "stdout",
     "output_type": "stream",
     "text": [
      "\n",
      "Epoch 6 Summary: Train AUC: 0.3996 | Val AUC: 0.4792\n",
      "--> No improvement. Patience: 5/5. Best AUC: 0.5015\n",
      "Early stopping triggered at epoch 6.\n",
      "\n",
      "========================= FOLD 5 =========================\n",
      "Data for fold 5 loaded: 4073 train, 1018 val samples.\n"
     ]
    },
    {
     "name": "stderr",
     "output_type": "stream",
     "text": [
      "Epoch 1/20 (LR: 0.000100): 100%|███████████████████████████████████████████████████████████████████████████████████████████████████████████████████████████████████████████████████████████████████████| 136/136 [00:20<00:00,  6.65it/s, loss=1.05]\n"
     ]
    },
    {
     "name": "stdout",
     "output_type": "stream",
     "text": [
      "\n",
      "Epoch 1 Summary: Train AUC: 0.4715 | Val AUC: 0.5000\n",
      "--> Val AUC improved from -1.0000 to 0.5000. Saving model...\n"
     ]
    },
    {
     "name": "stderr",
     "output_type": "stream",
     "text": [
      "Epoch 2/20 (LR: 0.000099): 100%|███████████████████████████████████████████████████████████████████████████████████████████████████████████████████████████████████████████████████████████████████████| 136/136 [00:19<00:00,  7.10it/s, loss=1.16]\n"
     ]
    },
    {
     "name": "stdout",
     "output_type": "stream",
     "text": [
      "\n",
      "Epoch 2 Summary: Train AUC: 0.4932 | Val AUC: 0.4886\n",
      "--> No improvement. Patience: 1/5. Best AUC: 0.5000\n"
     ]
    },
    {
     "name": "stderr",
     "output_type": "stream",
     "text": [
      "Epoch 3/20 (LR: 0.000098): 100%|██████████████████████████████████████████████████████████████████████████████████████████████████████████████████████████████████████████████████████████████████████| 136/136 [00:20<00:00,  6.50it/s, loss=0.433]\n"
     ]
    },
    {
     "name": "stdout",
     "output_type": "stream",
     "text": [
      "\n",
      "Epoch 3 Summary: Train AUC: 0.3984 | Val AUC: 0.5000\n",
      "--> No improvement. Patience: 2/5. Best AUC: 0.5000\n"
     ]
    },
    {
     "name": "stderr",
     "output_type": "stream",
     "text": [
      "Epoch 4/20 (LR: 0.000095): 100%|███████████████████████████████████████████████████████████████████████████████████████████████████████████████████████████████████████████████████████████████████████| 136/136 [00:22<00:00,  6.06it/s, loss=0.65]\n"
     ]
    },
    {
     "name": "stdout",
     "output_type": "stream",
     "text": [
      "\n",
      "Epoch 4 Summary: Train AUC: 0.3580 | Val AUC: 0.5000\n",
      "--> No improvement. Patience: 3/5. Best AUC: 0.5000\n"
     ]
    },
    {
     "name": "stderr",
     "output_type": "stream",
     "text": [
      "Epoch 5/20 (LR: 0.000091): 100%|███████████████████████████████████████████████████████████████████████████████████████████████████████████████████████████████████████████████████████████████████████| 136/136 [00:21<00:00,  6.39it/s, loss=4.97]\n"
     ]
    },
    {
     "name": "stdout",
     "output_type": "stream",
     "text": [
      "\n",
      "Epoch 5 Summary: Train AUC: 0.3993 | Val AUC: 0.4995\n",
      "--> No improvement. Patience: 4/5. Best AUC: 0.5000\n"
     ]
    },
    {
     "name": "stderr",
     "output_type": "stream",
     "text": [
      "Epoch 6/20 (LR: 0.000086): 100%|██████████████████████████████████████████████████████████████████████████████████████████████████████████████████████████████████████████████████████████████████████| 136/136 [00:22<00:00,  6.00it/s, loss=0.627]\n"
     ]
    },
    {
     "name": "stdout",
     "output_type": "stream",
     "text": [
      "\n",
      "Epoch 6 Summary: Train AUC: 0.4033 | Val AUC: 0.5000\n",
      "--> No improvement. Patience: 5/5. Best AUC: 0.5000\n",
      "Early stopping triggered at epoch 6.\n",
      "\n",
      "========================= CROSS-VALIDATION FINISHED =========================\n",
      "Scores for each fold: ['0.5079', '0.5114', '0.5721', '0.5015', '0.5000']\n",
      "Mean CV AUC: 0.5186\n",
      "Std Dev CV AUC: 0.0271\n"
     ]
    }
   ],
   "source": [
    "with open('config.json', 'r') as f:\n",
    "    config = json.load(f)\n",
    "\n",
    "run_training_cv(X_train, y_train, config=config)"
   ]
  },
  {
   "cell_type": "markdown",
   "id": "c990de9e",
   "metadata": {},
   "source": [
    "# Inference"
   ]
  },
  {
   "cell_type": "code",
   "execution_count": 21,
   "id": "b8014ca9",
   "metadata": {},
   "outputs": [],
   "source": [
    "def infer_with_ensemble(X_test_data, config, n_splits=5):\n",
    "    print(\"=\"*25)\n",
    "    print(\"🚀 Starting Inference with Model Ensemble\")\n",
    "    print(\"=\"*25)\n",
    "    \n",
    "    class Configs:\n",
    "        def __init__(self, config_dict):\n",
    "            for key, value in config_dict.items():\n",
    "                setattr(self, key, value)\n",
    "    configs = Configs(config)\n",
    "    \n",
    "    dummy_labels = np.zeros(len(X_test_data))\n",
    "    test_dataset = ExoDataset(X_test_data, dummy_labels)\n",
    "    test_loader = DataLoader(test_dataset, batch_size=config['batch_size'] * 2, shuffle=False, num_workers=config['num_workers'])\n",
    "    \n",
    "    all_fold_preds = []\n",
    "\n",
    "    for fold_num in range(1, n_splits + 1):\n",
    "        print(f\"\\n---> Inferring with model from FOLD {fold_num}...\")\n",
    "        \n",
    "        model = Model(configs).cuda()\n",
    "        model_path = f\"{config['save_ckpt_path']}/best_model_fold_{fold_num}.pth\"\n",
    "        \n",
    "        try:\n",
    "            model.load_state_dict(torch.load(model_path))\n",
    "        except FileNotFoundError:\n",
    "            print(f\"❌ ERROR: Model file not found at {model_path}. Skipping this fold.\")\n",
    "            continue\n",
    "        \n",
    "        model.eval()\n",
    "        \n",
    "        fold_preds = []\n",
    "        with torch.no_grad():\n",
    "            for batch in tqdm(test_loader, desc=f\"Predicting Fold {fold_num}\"):\n",
    "                input_x, _ = batch\n",
    "                input_x = input_x.cuda()\n",
    "\n",
    "                with autocast(\"cuda\"):\n",
    "                    output_logits = model(input_x)\n",
    "                \n",
    "                prediction_probs = torch.sigmoid(output_logits)\n",
    "                fold_preds.append(prediction_probs.cpu().numpy())\n",
    "\n",
    "        all_fold_preds.append(np.concatenate(fold_preds))\n",
    "\n",
    "    if not all_fold_preds:\n",
    "        print(\"❌ ERROR: No models were loaded. Inference failed.\")\n",
    "        return None\n",
    "\n",
    "    print(\"\\n✅ All folds processed. Averaging predictions...\")\n",
    "    final_predictions = np.mean(np.stack(all_fold_preds, axis=0), axis=0).flatten()\n",
    "    \n",
    "    return final_predictions"
   ]
  },
  {
   "cell_type": "code",
   "execution_count": null,
   "id": "9233a3c7",
   "metadata": {},
   "outputs": [
    {
     "name": "stdout",
     "output_type": "stream",
     "text": [
      "=========================\n",
      "🚀 Starting Inference with Model Ensemble\n",
      "=========================\n",
      "\n",
      "---> Inferring with model from FOLD 1...\n"
     ]
    },
    {
     "name": "stderr",
     "output_type": "stream",
     "text": [
      "Predicting Fold 1: 100%|████████████████████████████████████████████████████████████████████████████████████████████████████████████████████████████████████████████████████████████████████████████████████████████| 10/10 [00:00<00:00, 12.88it/s]\n"
     ]
    },
    {
     "name": "stdout",
     "output_type": "stream",
     "text": [
      "\n",
      "---> Inferring with model from FOLD 2...\n"
     ]
    },
    {
     "name": "stderr",
     "output_type": "stream",
     "text": [
      "Predicting Fold 2: 100%|████████████████████████████████████████████████████████████████████████████████████████████████████████████████████████████████████████████████████████████████████████████████████████████| 10/10 [00:00<00:00, 13.60it/s]\n"
     ]
    },
    {
     "name": "stdout",
     "output_type": "stream",
     "text": [
      "\n",
      "---> Inferring with model from FOLD 3...\n"
     ]
    },
    {
     "name": "stderr",
     "output_type": "stream",
     "text": [
      "Predicting Fold 3: 100%|████████████████████████████████████████████████████████████████████████████████████████████████████████████████████████████████████████████████████████████████████████████████████████████| 10/10 [00:00<00:00, 13.50it/s]\n"
     ]
    },
    {
     "name": "stdout",
     "output_type": "stream",
     "text": [
      "\n",
      "---> Inferring with model from FOLD 4...\n"
     ]
    },
    {
     "name": "stderr",
     "output_type": "stream",
     "text": [
      "Predicting Fold 4: 100%|████████████████████████████████████████████████████████████████████████████████████████████████████████████████████████████████████████████████████████████████████████████████████████████| 10/10 [00:00<00:00, 12.89it/s]\n"
     ]
    },
    {
     "name": "stdout",
     "output_type": "stream",
     "text": [
      "\n",
      "---> Inferring with model from FOLD 5...\n"
     ]
    },
    {
     "name": "stderr",
     "output_type": "stream",
     "text": [
      "Predicting Fold 5: 100%|████████████████████████████████████████████████████████████████████████████████████████████████████████████████████████████████████████████████████████████████████████████████████████████| 10/10 [00:00<00:00, 14.49it/s]\n"
     ]
    },
    {
     "name": "stdout",
     "output_type": "stream",
     "text": [
      "\n",
      "✅ All folds processed. Averaging predictions...\n"
     ]
    }
   ],
   "source": [
    "ensemble_predictions = infer_with_ensemble(X_test, config, n_splits=5)"
   ]
  },
  {
   "cell_type": "markdown",
   "id": "51adcecd",
   "metadata": {},
   "source": [
    "# Comprehensive Performance Report"
   ]
  },
  {
   "cell_type": "code",
   "execution_count": 32,
   "id": "ed48054b",
   "metadata": {},
   "outputs": [],
   "source": [
    "from sklearn.metrics import classification_report, confusion_matrix, precision_recall_curve, f1_score, accuracy_score"
   ]
  },
  {
   "cell_type": "code",
   "execution_count": 33,
   "id": "98f5e3ef",
   "metadata": {},
   "outputs": [],
   "source": [
    "def generate_comprehensive_report(y_true, y_pred_proba):\n",
    "    print(\"\\n\\n\" + \"=\"*25 + \" COMPREHENSIVE CLASSIFICATION REPORT \" + \"=\"*25)\n",
    "\n",
    "    auc_score = roc_auc_score(y_true, y_pred_proba)\n",
    "    print(f\"\\n🎯 ROC AUC Score (Threshold-Independent): {auc_score:.4f}\\n\")\n",
    "    print(\"-\" * 80)\n",
    "\n",
    "    print(f\"📊 Analysis for Standard Threshold = 0.5\")\n",
    "    y_pred_05 = (y_pred_proba >= 0.5).astype(int)\n",
    "    \n",
    "    print(\"\\nClassification Report (Threshold = 0.5):\")\n",
    "    print(classification_report(y_true, y_pred_05, target_names=['No Exo (0)', 'Exo (1)']))\n",
    "    \n",
    "    cm_05 = confusion_matrix(y_true, y_pred_05)\n",
    "    \n",
    "    precisions, recalls, thresholds = precision_recall_curve(y_true, y_pred_proba)\n",
    "    f1_scores = np.divide(2 * precisions * recalls, precisions + recalls, out=np.zeros_like(precisions), where=(precisions + recalls) != 0)\n",
    "    \n",
    "    optimal_idx = np.argmax(f1_scores)\n",
    "    optimal_threshold = thresholds[optimal_idx]\n",
    "    max_f1 = f1_scores[optimal_idx]\n",
    "    \n",
    "    print(\"-\" * 80)\n",
    "    \n",
    "    auc_score = roc_auc_score(y_true, y_pred_05)\n",
    "    print(f\"\\n🎯 ROC AUC Score (Threshold-05): {auc_score:.4f}\\n\")\n",
    "    print(f\"\\n🎯 Accuracy (Threshold-05): {accuracy_score(y_true, y_pred_05):.4f}\\n\")\n",
    "    \n",
    "    print(\"-\" * 80)\n",
    "\n",
    "    print(f\"📈 Analysis for Optimal Threshold\")\n",
    "    print(f\"   Optimal Threshold found at: {optimal_threshold:.4f} (which maximizes F1-Score)\")\n",
    "    print(f\"   Maximum F1-Score for class 'Exo': {max_f1:.4f}\")\n",
    "    \n",
    "    y_pred_opt = (y_pred_proba >= optimal_threshold).astype(int)\n",
    "    \n",
    "    print(\"\\nClassification Report (Optimal Threshold):\")\n",
    "    print(classification_report(y_true, y_pred_opt, target_names=['No Exo (0)', 'Exo (1)']))\n",
    "    \n",
    "    cm_opt = confusion_matrix(y_true, y_pred_opt)\n",
    "\n",
    "    print(\"-\" * 80)\n",
    "    \n",
    "    auc_score = roc_auc_score(y_true, y_pred_opt)\n",
    "    print(f\"\\n🎯 ROC AUC Score (Threshold-Optimal): {auc_score:.4f}\\n\")\n",
    "    print(f\"\\n🎯 Accuracy (Threshold-Optimal): {accuracy_score(y_true, y_pred_opt):.4f}\\n\")\n",
    "    \n",
    "    print(\"=\"*80)\n",
    "\n",
    "    fig, axes = plt.subplots(1, 2, figsize=(16, 6))\n",
    "    fig.suptitle('Confusion Matrices', fontsize=16)\n",
    "\n",
    "    sns.heatmap(cm_05, annot=True, fmt='d', cmap='Blues', ax=axes[0],\n",
    "                xticklabels=['No Exo', 'Exo'], yticklabels=['No Exo', 'Exo'])\n",
    "    axes[0].set_title('Threshold = 0.5')\n",
    "    axes[0].set_xlabel('Predicted Label')\n",
    "    axes[0].set_ylabel('True Label')\n",
    "\n",
    "    sns.heatmap(cm_opt, annot=True, fmt='d', cmap='Greens', ax=axes[1],\n",
    "                xticklabels=['No Exo', 'Exo'], yticklabels=['No Exo', 'Exo'])\n",
    "    axes[1].set_title(f'Optimal Threshold = {optimal_threshold:.4f}')\n",
    "    axes[1].set_xlabel('Predicted Label')\n",
    "    axes[1].set_ylabel('True Label')\n",
    "\n",
    "    plt.tight_layout(rect=[0, 0, 1, 0.96])\n",
    "    plt.show()"
   ]
  },
  {
   "cell_type": "code",
   "execution_count": 34,
   "id": "6cad505a",
   "metadata": {},
   "outputs": [
    {
     "name": "stdout",
     "output_type": "stream",
     "text": [
      "\n",
      "\n",
      "========================= COMPREHENSIVE CLASSIFICATION REPORT =========================\n",
      "\n",
      "🎯 ROC AUC Score (Threshold-Independent): 0.5000\n",
      "\n",
      "--------------------------------------------------------------------------------\n",
      "📊 Analysis for Standard Threshold = 0.5\n",
      "\n",
      "Classification Report (Threshold = 0.5):\n",
      "              precision    recall  f1-score   support\n",
      "\n",
      "  No Exo (0)       0.00      0.00      0.00       562\n",
      "     Exo (1)       0.01      1.00      0.01         4\n",
      "\n",
      "    accuracy                           0.01       566\n",
      "   macro avg       0.00      0.50      0.01       566\n",
      "weighted avg       0.00      0.01      0.00       566\n",
      "\n",
      "--------------------------------------------------------------------------------\n",
      "\n",
      "🎯 ROC AUC Score (Threshold-05): 0.5000\n",
      "\n",
      "\n",
      "🎯 Accuracy (Threshold-05): 0.0071\n",
      "\n",
      "--------------------------------------------------------------------------------\n",
      "📈 Analysis for Optimal Threshold\n",
      "   Optimal Threshold found at: 0.5996 (which maximizes F1-Score)\n",
      "   Maximum F1-Score for class 'Exo': 0.0140\n",
      "\n",
      "Classification Report (Optimal Threshold):\n",
      "              precision    recall  f1-score   support\n",
      "\n",
      "  No Exo (0)       0.00      0.00      0.00       562\n",
      "     Exo (1)       0.01      1.00      0.01         4\n",
      "\n",
      "    accuracy                           0.01       566\n",
      "   macro avg       0.00      0.50      0.01       566\n",
      "weighted avg       0.00      0.01      0.00       566\n",
      "\n",
      "--------------------------------------------------------------------------------\n",
      "\n",
      "🎯 ROC AUC Score (Threshold-Optimal): 0.5000\n",
      "\n",
      "\n",
      "🎯 Accuracy (Threshold-Optimal): 0.0071\n",
      "\n",
      "================================================================================\n"
     ]
    },
    {
     "data": {
      "image/png": "[encoded data removed]",
      "text/plain": [
       "<Figure size 1600x600 with 4 Axes>"
      ]
     },
     "metadata": {},
     "output_type": "display_data"
    }
   ],
   "source": [
    "results_df = pd.DataFrame({\n",
    "    'true_label': y_test,\n",
    "    'prediction': ensemble_predictions\n",
    "})\n",
    "\n",
    "results_df.dropna(inplace=True)\n",
    "\n",
    "generate_comprehensive_report(results_df['true_label'], results_df['prediction'])"
   ]
  },
  {
   "cell_type": "code",
   "execution_count": null,
   "id": "246acb29",
   "metadata": {},
   "outputs": [],
   "source": []
  }
 ],
 "metadata": {
  "kernelspec": {
   "display_name": "Python 3 (ipykernel)",
   "language": "python",
   "name": "python3"
  }
 },
 "nbformat": 4,
 "nbformat_minor": 5
}
